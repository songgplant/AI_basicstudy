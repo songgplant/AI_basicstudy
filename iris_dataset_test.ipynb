{
  "nbformat": 4,
  "nbformat_minor": 0,
  "metadata": {
    "colab": {
      "name": "iris_dataset_test.ipynb",
      "provenance": [],
      "collapsed_sections": [],
      "authorship_tag": "ABX9TyOy3KgYes6zrjgUVJmAHHHx"
    },
    "kernelspec": {
      "name": "python3",
      "display_name": "Python 3"
    },
    "language_info": {
      "name": "python"
    }
  },
  "cells": [
    {
      "cell_type": "markdown",
      "source": [
        "https://scikit-learn.org/stable/datasets.html iris 데이터 불러오기"
      ],
      "metadata": {
        "id": "e_XC4FuzAity"
      }
    },
    {
      "cell_type": "markdown",
      "source": [
        "# 데이터셋 읽기"
      ],
      "metadata": {
        "id": "n0NkzzhAAm0z"
      }
    },
    {
      "cell_type": "code",
      "execution_count": null,
      "metadata": {
        "id": "EfcE_EH2Ac6B"
      },
      "outputs": [],
      "source": [
        "from sklearn import datasets"
      ]
    },
    {
      "cell_type": "code",
      "source": [
        "d = datasets.load_iris()"
      ],
      "metadata": {
        "id": "RwR0OaV4A3Dp"
      },
      "execution_count": null,
      "outputs": []
    },
    {
      "cell_type": "code",
      "source": [
        "# 데이터에 대한 전체적인 설명\n",
        "print(d.DESCR)"
      ],
      "metadata": {
        "colab": {
          "base_uri": "https://localhost:8080/"
        },
        "id": "-b8Sj-SmA6xv",
        "outputId": "e453e498-ace7-4a2d-da6c-8b4a182cd05f"
      },
      "execution_count": null,
      "outputs": [
        {
          "output_type": "stream",
          "name": "stdout",
          "text": [
            ".. _iris_dataset:\n",
            "\n",
            "Iris plants dataset\n",
            "--------------------\n",
            "\n",
            "**Data Set Characteristics:**\n",
            "\n",
            "    :Number of Instances: 150 (50 in each of three classes)\n",
            "    :Number of Attributes: 4 numeric, predictive attributes and the class\n",
            "    :Attribute Information:\n",
            "        - sepal length in cm\n",
            "        - sepal width in cm\n",
            "        - petal length in cm\n",
            "        - petal width in cm\n",
            "        - class:\n",
            "                - Iris-Setosa\n",
            "                - Iris-Versicolour\n",
            "                - Iris-Virginica\n",
            "                \n",
            "    :Summary Statistics:\n",
            "\n",
            "    ============== ==== ==== ======= ===== ====================\n",
            "                    Min  Max   Mean    SD   Class Correlation\n",
            "    ============== ==== ==== ======= ===== ====================\n",
            "    sepal length:   4.3  7.9   5.84   0.83    0.7826\n",
            "    sepal width:    2.0  4.4   3.05   0.43   -0.4194\n",
            "    petal length:   1.0  6.9   3.76   1.76    0.9490  (high!)\n",
            "    petal width:    0.1  2.5   1.20   0.76    0.9565  (high!)\n",
            "    ============== ==== ==== ======= ===== ====================\n",
            "\n",
            "    :Missing Attribute Values: None\n",
            "    :Class Distribution: 33.3% for each of 3 classes.\n",
            "    :Creator: R.A. Fisher\n",
            "    :Donor: Michael Marshall (MARSHALL%PLU@io.arc.nasa.gov)\n",
            "    :Date: July, 1988\n",
            "\n",
            "The famous Iris database, first used by Sir R.A. Fisher. The dataset is taken\n",
            "from Fisher's paper. Note that it's the same as in R, but not as in the UCI\n",
            "Machine Learning Repository, which has two wrong data points.\n",
            "\n",
            "This is perhaps the best known database to be found in the\n",
            "pattern recognition literature.  Fisher's paper is a classic in the field and\n",
            "is referenced frequently to this day.  (See Duda & Hart, for example.)  The\n",
            "data set contains 3 classes of 50 instances each, where each class refers to a\n",
            "type of iris plant.  One class is linearly separable from the other 2; the\n",
            "latter are NOT linearly separable from each other.\n",
            "\n",
            ".. topic:: References\n",
            "\n",
            "   - Fisher, R.A. \"The use of multiple measurements in taxonomic problems\"\n",
            "     Annual Eugenics, 7, Part II, 179-188 (1936); also in \"Contributions to\n",
            "     Mathematical Statistics\" (John Wiley, NY, 1950).\n",
            "   - Duda, R.O., & Hart, P.E. (1973) Pattern Classification and Scene Analysis.\n",
            "     (Q327.D83) John Wiley & Sons.  ISBN 0-471-22361-1.  See page 218.\n",
            "   - Dasarathy, B.V. (1980) \"Nosing Around the Neighborhood: A New System\n",
            "     Structure and Classification Rule for Recognition in Partially Exposed\n",
            "     Environments\".  IEEE Transactions on Pattern Analysis and Machine\n",
            "     Intelligence, Vol. PAMI-2, No. 1, 67-71.\n",
            "   - Gates, G.W. (1972) \"The Reduced Nearest Neighbor Rule\".  IEEE Transactions\n",
            "     on Information Theory, May 1972, 431-433.\n",
            "   - See also: 1988 MLC Proceedings, 54-64.  Cheeseman et al\"s AUTOCLASS II\n",
            "     conceptual clustering system finds 3 classes in the data.\n",
            "   - Many, many more ...\n"
          ]
        }
      ]
    },
    {
      "cell_type": "code",
      "source": [
        "# 데이터 조회하기\n",
        "for i in range(0, len(d.data)) :\n",
        "  print(i+1, d.data[i], d.target[i])"
      ],
      "metadata": {
        "colab": {
          "base_uri": "https://localhost:8080/"
        },
        "id": "_kXOzfIpA-3x",
        "outputId": "bf021d4b-8dd4-4b98-d8d3-5688f1ca3dcc"
      },
      "execution_count": null,
      "outputs": [
        {
          "output_type": "stream",
          "name": "stdout",
          "text": [
            "1 [5.1 3.5 1.4 0.2] 0\n",
            "2 [4.9 3.  1.4 0.2] 0\n",
            "3 [4.7 3.2 1.3 0.2] 0\n",
            "4 [4.6 3.1 1.5 0.2] 0\n",
            "5 [5.  3.6 1.4 0.2] 0\n",
            "6 [5.4 3.9 1.7 0.4] 0\n",
            "7 [4.6 3.4 1.4 0.3] 0\n",
            "8 [5.  3.4 1.5 0.2] 0\n",
            "9 [4.4 2.9 1.4 0.2] 0\n",
            "10 [4.9 3.1 1.5 0.1] 0\n",
            "11 [5.4 3.7 1.5 0.2] 0\n",
            "12 [4.8 3.4 1.6 0.2] 0\n",
            "13 [4.8 3.  1.4 0.1] 0\n",
            "14 [4.3 3.  1.1 0.1] 0\n",
            "15 [5.8 4.  1.2 0.2] 0\n",
            "16 [5.7 4.4 1.5 0.4] 0\n",
            "17 [5.4 3.9 1.3 0.4] 0\n",
            "18 [5.1 3.5 1.4 0.3] 0\n",
            "19 [5.7 3.8 1.7 0.3] 0\n",
            "20 [5.1 3.8 1.5 0.3] 0\n",
            "21 [5.4 3.4 1.7 0.2] 0\n",
            "22 [5.1 3.7 1.5 0.4] 0\n",
            "23 [4.6 3.6 1.  0.2] 0\n",
            "24 [5.1 3.3 1.7 0.5] 0\n",
            "25 [4.8 3.4 1.9 0.2] 0\n",
            "26 [5.  3.  1.6 0.2] 0\n",
            "27 [5.  3.4 1.6 0.4] 0\n",
            "28 [5.2 3.5 1.5 0.2] 0\n",
            "29 [5.2 3.4 1.4 0.2] 0\n",
            "30 [4.7 3.2 1.6 0.2] 0\n",
            "31 [4.8 3.1 1.6 0.2] 0\n",
            "32 [5.4 3.4 1.5 0.4] 0\n",
            "33 [5.2 4.1 1.5 0.1] 0\n",
            "34 [5.5 4.2 1.4 0.2] 0\n",
            "35 [4.9 3.1 1.5 0.2] 0\n",
            "36 [5.  3.2 1.2 0.2] 0\n",
            "37 [5.5 3.5 1.3 0.2] 0\n",
            "38 [4.9 3.6 1.4 0.1] 0\n",
            "39 [4.4 3.  1.3 0.2] 0\n",
            "40 [5.1 3.4 1.5 0.2] 0\n",
            "41 [5.  3.5 1.3 0.3] 0\n",
            "42 [4.5 2.3 1.3 0.3] 0\n",
            "43 [4.4 3.2 1.3 0.2] 0\n",
            "44 [5.  3.5 1.6 0.6] 0\n",
            "45 [5.1 3.8 1.9 0.4] 0\n",
            "46 [4.8 3.  1.4 0.3] 0\n",
            "47 [5.1 3.8 1.6 0.2] 0\n",
            "48 [4.6 3.2 1.4 0.2] 0\n",
            "49 [5.3 3.7 1.5 0.2] 0\n",
            "50 [5.  3.3 1.4 0.2] 0\n",
            "51 [7.  3.2 4.7 1.4] 1\n",
            "52 [6.4 3.2 4.5 1.5] 1\n",
            "53 [6.9 3.1 4.9 1.5] 1\n",
            "54 [5.5 2.3 4.  1.3] 1\n",
            "55 [6.5 2.8 4.6 1.5] 1\n",
            "56 [5.7 2.8 4.5 1.3] 1\n",
            "57 [6.3 3.3 4.7 1.6] 1\n",
            "58 [4.9 2.4 3.3 1. ] 1\n",
            "59 [6.6 2.9 4.6 1.3] 1\n",
            "60 [5.2 2.7 3.9 1.4] 1\n",
            "61 [5.  2.  3.5 1. ] 1\n",
            "62 [5.9 3.  4.2 1.5] 1\n",
            "63 [6.  2.2 4.  1. ] 1\n",
            "64 [6.1 2.9 4.7 1.4] 1\n",
            "65 [5.6 2.9 3.6 1.3] 1\n",
            "66 [6.7 3.1 4.4 1.4] 1\n",
            "67 [5.6 3.  4.5 1.5] 1\n",
            "68 [5.8 2.7 4.1 1. ] 1\n",
            "69 [6.2 2.2 4.5 1.5] 1\n",
            "70 [5.6 2.5 3.9 1.1] 1\n",
            "71 [5.9 3.2 4.8 1.8] 1\n",
            "72 [6.1 2.8 4.  1.3] 1\n",
            "73 [6.3 2.5 4.9 1.5] 1\n",
            "74 [6.1 2.8 4.7 1.2] 1\n",
            "75 [6.4 2.9 4.3 1.3] 1\n",
            "76 [6.6 3.  4.4 1.4] 1\n",
            "77 [6.8 2.8 4.8 1.4] 1\n",
            "78 [6.7 3.  5.  1.7] 1\n",
            "79 [6.  2.9 4.5 1.5] 1\n",
            "80 [5.7 2.6 3.5 1. ] 1\n",
            "81 [5.5 2.4 3.8 1.1] 1\n",
            "82 [5.5 2.4 3.7 1. ] 1\n",
            "83 [5.8 2.7 3.9 1.2] 1\n",
            "84 [6.  2.7 5.1 1.6] 1\n",
            "85 [5.4 3.  4.5 1.5] 1\n",
            "86 [6.  3.4 4.5 1.6] 1\n",
            "87 [6.7 3.1 4.7 1.5] 1\n",
            "88 [6.3 2.3 4.4 1.3] 1\n",
            "89 [5.6 3.  4.1 1.3] 1\n",
            "90 [5.5 2.5 4.  1.3] 1\n",
            "91 [5.5 2.6 4.4 1.2] 1\n",
            "92 [6.1 3.  4.6 1.4] 1\n",
            "93 [5.8 2.6 4.  1.2] 1\n",
            "94 [5.  2.3 3.3 1. ] 1\n",
            "95 [5.6 2.7 4.2 1.3] 1\n",
            "96 [5.7 3.  4.2 1.2] 1\n",
            "97 [5.7 2.9 4.2 1.3] 1\n",
            "98 [6.2 2.9 4.3 1.3] 1\n",
            "99 [5.1 2.5 3.  1.1] 1\n",
            "100 [5.7 2.8 4.1 1.3] 1\n",
            "101 [6.3 3.3 6.  2.5] 2\n",
            "102 [5.8 2.7 5.1 1.9] 2\n",
            "103 [7.1 3.  5.9 2.1] 2\n",
            "104 [6.3 2.9 5.6 1.8] 2\n",
            "105 [6.5 3.  5.8 2.2] 2\n",
            "106 [7.6 3.  6.6 2.1] 2\n",
            "107 [4.9 2.5 4.5 1.7] 2\n",
            "108 [7.3 2.9 6.3 1.8] 2\n",
            "109 [6.7 2.5 5.8 1.8] 2\n",
            "110 [7.2 3.6 6.1 2.5] 2\n",
            "111 [6.5 3.2 5.1 2. ] 2\n",
            "112 [6.4 2.7 5.3 1.9] 2\n",
            "113 [6.8 3.  5.5 2.1] 2\n",
            "114 [5.7 2.5 5.  2. ] 2\n",
            "115 [5.8 2.8 5.1 2.4] 2\n",
            "116 [6.4 3.2 5.3 2.3] 2\n",
            "117 [6.5 3.  5.5 1.8] 2\n",
            "118 [7.7 3.8 6.7 2.2] 2\n",
            "119 [7.7 2.6 6.9 2.3] 2\n",
            "120 [6.  2.2 5.  1.5] 2\n",
            "121 [6.9 3.2 5.7 2.3] 2\n",
            "122 [5.6 2.8 4.9 2. ] 2\n",
            "123 [7.7 2.8 6.7 2. ] 2\n",
            "124 [6.3 2.7 4.9 1.8] 2\n",
            "125 [6.7 3.3 5.7 2.1] 2\n",
            "126 [7.2 3.2 6.  1.8] 2\n",
            "127 [6.2 2.8 4.8 1.8] 2\n",
            "128 [6.1 3.  4.9 1.8] 2\n",
            "129 [6.4 2.8 5.6 2.1] 2\n",
            "130 [7.2 3.  5.8 1.6] 2\n",
            "131 [7.4 2.8 6.1 1.9] 2\n",
            "132 [7.9 3.8 6.4 2. ] 2\n",
            "133 [6.4 2.8 5.6 2.2] 2\n",
            "134 [6.3 2.8 5.1 1.5] 2\n",
            "135 [6.1 2.6 5.6 1.4] 2\n",
            "136 [7.7 3.  6.1 2.3] 2\n",
            "137 [6.3 3.4 5.6 2.4] 2\n",
            "138 [6.4 3.1 5.5 1.8] 2\n",
            "139 [6.  3.  4.8 1.8] 2\n",
            "140 [6.9 3.1 5.4 2.1] 2\n",
            "141 [6.7 3.1 5.6 2.4] 2\n",
            "142 [6.9 3.1 5.1 2.3] 2\n",
            "143 [5.8 2.7 5.1 1.9] 2\n",
            "144 [6.8 3.2 5.9 2.3] 2\n",
            "145 [6.7 3.3 5.7 2.5] 2\n",
            "146 [6.7 3.  5.2 2.3] 2\n",
            "147 [6.3 2.5 5.  1.9] 2\n",
            "148 [6.5 3.  5.2 2. ] 2\n",
            "149 [6.2 3.4 5.4 2.3] 2\n",
            "150 [5.9 3.  5.1 1.8] 2\n"
          ]
        }
      ]
    },
    {
      "cell_type": "code",
      "source": [
        "from sklearn import svm"
      ],
      "metadata": {
        "id": "Pr3HNkslBjoE"
      },
      "execution_count": null,
      "outputs": []
    },
    {
      "cell_type": "code",
      "source": [
        "s = svm.SVC(gamma=0.1, C=10) #하이퍼 매개변수, svm 분류 모델 SVC 객체 생성"
      ],
      "metadata": {
        "id": "rxNONsXzCj3d"
      },
      "execution_count": null,
      "outputs": []
    },
    {
      "cell_type": "code",
      "source": [
        "s.fit(d.data, d.target)"
      ],
      "metadata": {
        "colab": {
          "base_uri": "https://localhost:8080/"
        },
        "id": "-_nICW63ClUj",
        "outputId": "f430078a-e6c4-4193-c87c-748f1c0f60fd"
      },
      "execution_count": null,
      "outputs": [
        {
          "output_type": "execute_result",
          "data": {
            "text/plain": [
              "SVC(C=10, gamma=0.1)"
            ]
          },
          "metadata": {},
          "execution_count": 7
        }
      ]
    },
    {
      "cell_type": "code",
      "source": [
        "new_d = [[6.4, 3.2, 6.0, 2.5], [7.1, 3.1, 4.7, 1.35]]"
      ],
      "metadata": {
        "id": "bJ-pGNYHCeTU"
      },
      "execution_count": null,
      "outputs": []
    },
    {
      "cell_type": "code",
      "source": [
        "res = s.predict(new_d)"
      ],
      "metadata": {
        "id": "vtyyqhAxCfmU"
      },
      "execution_count": null,
      "outputs": []
    },
    {
      "cell_type": "code",
      "source": [
        "print(\"새로운 2개 샘플 부류\", res)"
      ],
      "metadata": {
        "colab": {
          "base_uri": "https://localhost:8080/"
        },
        "id": "VUnxsaQFChvy",
        "outputId": "15beb071-146f-492f-d34d-9d0a457b5ce5"
      },
      "execution_count": null,
      "outputs": [
        {
          "output_type": "stream",
          "name": "stdout",
          "text": [
            "새로운 2개 샘플 부류 [2 1]\n"
          ]
        }
      ]
    },
    {
      "cell_type": "markdown",
      "source": [
        "# 특징 공간에서 데이터 분포"
      ],
      "metadata": {
        "id": "bZq2-uryDNCP"
      }
    },
    {
      "cell_type": "code",
      "source": [
        "import plotly.express as px\n",
        "import pandas as pd"
      ],
      "metadata": {
        "id": "VUQ_PlpnDO7A"
      },
      "execution_count": null,
      "outputs": []
    },
    {
      "cell_type": "code",
      "source": [
        "df = px.data.iris()\n",
        "fig = px.scatter_3d(df, x='sepal_length', y='sepal_width', z='petal_width', color='species') #petal_length를 제외하여 3차원 공간에 구성\n",
        "\n",
        "fig.show()"
      ],
      "metadata": {
        "id": "iYOO9AVnDQcz"
      },
      "execution_count": null,
      "outputs": []
    },
    {
      "cell_type": "markdown",
      "source": [
        "- http://data.maum.ai/ \n",
        "- https://maum.ai/ \n",
        "- https://www.youtube.com/watch?v=RaQD3G-mSpA\n",
        "- https://teachablemachine.withgoogle.com/\n"
      ],
      "metadata": {
        "id": "zAa9Z6eWDgq4"
      }
    },
    {
      "cell_type": "code",
      "source": [
        ""
      ],
      "metadata": {
        "id": "oko_AzdCDgdU"
      },
      "execution_count": null,
      "outputs": []
    },
    {
      "cell_type": "code",
      "source": [
        ""
      ],
      "metadata": {
        "id": "TA_cU5XYDTYS"
      },
      "execution_count": null,
      "outputs": []
    }
  ]
}