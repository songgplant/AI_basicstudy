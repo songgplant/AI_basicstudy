{
  "nbformat": 4,
  "nbformat_minor": 0,
  "metadata": {
    "colab": {
      "name": "Numpy_basic.ipynb",
      "provenance": [],
      "collapsed_sections": []
    },
    "kernelspec": {
      "name": "python3",
      "display_name": "Python 3"
    },
    "language_info": {
      "name": "python"
    },
    "accelerator": "GPU"
  },
  "cells": [
    {
      "cell_type": "markdown",
      "metadata": {
        "id": "WAVpQBs_Qm_1"
      },
      "source": [
        "# 2 장 Numpy\n",
        "\n",
        "\n",
        "\n"
      ]
    },
    {
      "cell_type": "markdown",
      "metadata": {
        "id": "Ma9XXCSogx6R"
      },
      "source": [
        "## 2.1 NumPy(넘파이) 특징\n",
        "\n",
        "\n",
        "*   과학 계산을 위한 라이브러리\n",
        "*   행렬/배열 처리 및 연산\n",
        "*   난수생성\n",
        "\n"
      ]
    },
    {
      "cell_type": "markdown",
      "metadata": {
        "id": "RzfVdmm6g1T1"
      },
      "source": [
        "## 2.2 배열의 생성\n",
        "\n",
        "*   리스트에서 행렬/배열 생성"
      ]
    },
    {
      "cell_type": "code",
      "metadata": {
        "id": "f8aWFWkeQ0em"
      },
      "source": [
        "import numpy as np # numpy 패키지 로드하여 np로 사용"
      ],
      "execution_count": 1,
      "outputs": []
    },
    {
      "cell_type": "code",
      "source": [
        "a = [1,3,5,7,9]"
      ],
      "metadata": {
        "id": "igwgR37SKv4k"
      },
      "execution_count": 2,
      "outputs": []
    },
    {
      "cell_type": "code",
      "source": [
        "a"
      ],
      "metadata": {
        "colab": {
          "base_uri": "https://localhost:8080/"
        },
        "id": "aeEJnLWaLCeq",
        "outputId": "1ea0b583-1aad-4c32-bd8d-2ad0d1b5093b"
      },
      "execution_count": 3,
      "outputs": [
        {
          "output_type": "execute_result",
          "data": {
            "text/plain": [
              "[1, 3, 5, 7, 9]"
            ]
          },
          "metadata": {},
          "execution_count": 3
        }
      ]
    },
    {
      "cell_type": "code",
      "source": [
        "type(a)"
      ],
      "metadata": {
        "colab": {
          "base_uri": "https://localhost:8080/"
        },
        "id": "H6cWUiPtiGwE",
        "outputId": "9fa6b017-52ea-42e7-b35f-3bdc0b964755"
      },
      "execution_count": 4,
      "outputs": [
        {
          "output_type": "execute_result",
          "data": {
            "text/plain": [
              "list"
            ]
          },
          "metadata": {},
          "execution_count": 4
        }
      ]
    },
    {
      "cell_type": "code",
      "source": [
        "narray = np.array(a)"
      ],
      "metadata": {
        "id": "gMxGRiEWKofr"
      },
      "execution_count": 5,
      "outputs": []
    },
    {
      "cell_type": "code",
      "source": [
        "narray"
      ],
      "metadata": {
        "colab": {
          "base_uri": "https://localhost:8080/"
        },
        "id": "KoqcB_TAK-vc",
        "outputId": "f77e1ed1-fbac-4db8-9c43-73fc8c51acad"
      },
      "execution_count": 6,
      "outputs": [
        {
          "output_type": "execute_result",
          "data": {
            "text/plain": [
              "array([1, 3, 5, 7, 9])"
            ]
          },
          "metadata": {},
          "execution_count": 6
        }
      ]
    },
    {
      "cell_type": "code",
      "source": [
        "type(narray)"
      ],
      "metadata": {
        "colab": {
          "base_uri": "https://localhost:8080/"
        },
        "id": "dvbEHGcwiQq0",
        "outputId": "a4b92c92-27ab-4b65-dbaf-f5f88e395eb1"
      },
      "execution_count": 7,
      "outputs": [
        {
          "output_type": "execute_result",
          "data": {
            "text/plain": [
              "numpy.ndarray"
            ]
          },
          "metadata": {},
          "execution_count": 7
        }
      ]
    },
    {
      "cell_type": "code",
      "source": [
        "if type(a) == type(narray) :\n",
        "  print(\"타입이 동일합니다\")\n",
        "else :\n",
        "  print(\"타입이 다릅니다\")"
      ],
      "metadata": {
        "colab": {
          "base_uri": "https://localhost:8080/"
        },
        "id": "rRushmcpiURB",
        "outputId": "f3f0e2a3-8ce4-4057-f5b0-31e0778eb57d"
      },
      "execution_count": 8,
      "outputs": [
        {
          "output_type": "stream",
          "name": "stdout",
          "text": [
            "타입이 다릅니다\n"
          ]
        }
      ]
    },
    {
      "cell_type": "code",
      "source": [
        "narray.shape"
      ],
      "metadata": {
        "colab": {
          "base_uri": "https://localhost:8080/"
        },
        "id": "0Xi4h_VNLlXt",
        "outputId": "5a21f406-4488-4924-df20-882871be8b8b"
      },
      "execution_count": 9,
      "outputs": [
        {
          "output_type": "execute_result",
          "data": {
            "text/plain": [
              "(5,)"
            ]
          },
          "metadata": {},
          "execution_count": 9
        }
      ]
    },
    {
      "cell_type": "code",
      "metadata": {
        "id": "EPcmsnEExt7Q"
      },
      "source": [
        "a = [[1,2,3], [4,5,6]] # 리스트에서 행렬생성"
      ],
      "execution_count": 10,
      "outputs": []
    },
    {
      "cell_type": "code",
      "source": [
        "print(a)"
      ],
      "metadata": {
        "colab": {
          "base_uri": "https://localhost:8080/"
        },
        "id": "YtCy6zS-i4rZ",
        "outputId": "3db9a69c-e13d-4253-f4f6-de89310e2796"
      },
      "execution_count": 11,
      "outputs": [
        {
          "output_type": "stream",
          "name": "stdout",
          "text": [
            "[[1, 2, 3], [4, 5, 6]]\n"
          ]
        }
      ]
    },
    {
      "cell_type": "code",
      "source": [
        "b = np.array(a)"
      ],
      "metadata": {
        "id": "pt0Esz7bmZVw"
      },
      "execution_count": 13,
      "outputs": []
    },
    {
      "cell_type": "code",
      "source": [
        "b"
      ],
      "metadata": {
        "colab": {
          "base_uri": "https://localhost:8080/"
        },
        "id": "ljxId7WVL1Fx",
        "outputId": "1bd974c1-3c67-45e3-f668-8576dd9a3f74"
      },
      "execution_count": 14,
      "outputs": [
        {
          "output_type": "execute_result",
          "data": {
            "text/plain": [
              "array([[1, 2, 3],\n",
              "       [4, 5, 6]])"
            ]
          },
          "metadata": {},
          "execution_count": 14
        }
      ]
    },
    {
      "cell_type": "code",
      "metadata": {
        "colab": {
          "base_uri": "https://localhost:8080/"
        },
        "id": "4xiWTBLCQ-RO",
        "outputId": "fb972650-a76d-4cb5-83ab-8959e8f7cde2"
      },
      "source": [
        "print(b)"
      ],
      "execution_count": 15,
      "outputs": [
        {
          "output_type": "stream",
          "name": "stdout",
          "text": [
            "[[1 2 3]\n",
            " [4 5 6]]\n"
          ]
        }
      ]
    },
    {
      "cell_type": "code",
      "source": [
        "len(b), type(b)"
      ],
      "metadata": {
        "colab": {
          "base_uri": "https://localhost:8080/"
        },
        "id": "5oFR79m8jJft",
        "outputId": "7dcf0875-1281-4a10-dadd-3ffbb2e7e157"
      },
      "execution_count": 17,
      "outputs": [
        {
          "output_type": "execute_result",
          "data": {
            "text/plain": [
              "(2, numpy.ndarray)"
            ]
          },
          "metadata": {},
          "execution_count": 17
        }
      ]
    },
    {
      "cell_type": "code",
      "metadata": {
        "id": "6dcgnuokRPHP",
        "colab": {
          "base_uri": "https://localhost:8080/"
        },
        "outputId": "3d630ddc-1bea-4e63-f072-31a19476c4d4"
      },
      "source": [
        "print(b.ndim)  # 배열의 열수(차원)"
      ],
      "execution_count": 18,
      "outputs": [
        {
          "output_type": "stream",
          "name": "stdout",
          "text": [
            "2\n"
          ]
        }
      ]
    },
    {
      "cell_type": "code",
      "metadata": {
        "id": "mxlIifLffM0V",
        "colab": {
          "base_uri": "https://localhost:8080/"
        },
        "outputId": "aff82111-b430-424c-fbad-6d3a2a0610b0"
      },
      "source": [
        "print(b.shape) # 배열의 차원, 2행 3열"
      ],
      "execution_count": 19,
      "outputs": [
        {
          "output_type": "stream",
          "name": "stdout",
          "text": [
            "(2, 3)\n"
          ]
        }
      ]
    },
    {
      "cell_type": "code",
      "metadata": {
        "id": "MnqWY1HxfSSL",
        "colab": {
          "base_uri": "https://localhost:8080/"
        },
        "outputId": "aa383037-fb06-427c-d886-9735633378dd"
      },
      "source": [
        "print(b[0,1])  # 배열의 원소 접근"
      ],
      "execution_count": 20,
      "outputs": [
        {
          "output_type": "stream",
          "name": "stdout",
          "text": [
            "2\n"
          ]
        }
      ]
    },
    {
      "cell_type": "markdown",
      "metadata": {
        "id": "-SS9q_0rQWh9"
      },
      "source": [
        "\n",
        "*   특수한 배열의 생성\n",
        "\n"
      ]
    },
    {
      "cell_type": "code",
      "metadata": {
        "colab": {
          "base_uri": "https://localhost:8080/"
        },
        "id": "FDW8HiD3fZub",
        "outputId": "41170b9e-2c96-4874-a296-40bd73bec840"
      },
      "source": [
        "print(np.arange(10)) # 1씩 증가하는 1차원 배열(시작이 0부터)"
      ],
      "execution_count": 21,
      "outputs": [
        {
          "output_type": "stream",
          "name": "stdout",
          "text": [
            "[0 1 2 3 4 5 6 7 8 9]\n"
          ]
        }
      ]
    },
    {
      "cell_type": "code",
      "metadata": {
        "id": "LnqTVfzqf3EP",
        "colab": {
          "base_uri": "https://localhost:8080/"
        },
        "outputId": "9344a000-3561-4bd8-cce1-b95b104fbef9"
      },
      "source": [
        "np.arange(10)"
      ],
      "execution_count": 22,
      "outputs": [
        {
          "output_type": "execute_result",
          "data": {
            "text/plain": [
              "array([0, 1, 2, 3, 4, 5, 6, 7, 8, 9])"
            ]
          },
          "metadata": {},
          "execution_count": 22
        }
      ]
    },
    {
      "cell_type": "code",
      "metadata": {
        "id": "WMT9I-hUfxC2",
        "colab": {
          "base_uri": "https://localhost:8080/"
        },
        "outputId": "bcb19fe7-6124-43eb-d586-c9598e59c695"
      },
      "source": [
        "print(np.arange(5, 10)) # 1씩 증가하는 1차원 배열(시작이 5부터)"
      ],
      "execution_count": 23,
      "outputs": [
        {
          "output_type": "stream",
          "name": "stdout",
          "text": [
            "[5 6 7 8 9]\n"
          ]
        }
      ]
    },
    {
      "cell_type": "code",
      "source": [
        "np.arange(5, 10, 3)"
      ],
      "metadata": {
        "colab": {
          "base_uri": "https://localhost:8080/"
        },
        "id": "85Koc3OBouUH",
        "outputId": "0a8ee0aa-f6e4-4559-b07c-d922e35168be"
      },
      "execution_count": 24,
      "outputs": [
        {
          "output_type": "execute_result",
          "data": {
            "text/plain": [
              "array([5, 8])"
            ]
          },
          "metadata": {},
          "execution_count": 24
        }
      ]
    },
    {
      "cell_type": "code",
      "metadata": {
        "id": "QViRDiz0f360",
        "colab": {
          "base_uri": "https://localhost:8080/"
        },
        "outputId": "b554a9ba-e62c-4aec-a6c1-8153cd19fb7d"
      },
      "source": [
        "print(np.zeros((2,2)))  # 영행렬 생성"
      ],
      "execution_count": 25,
      "outputs": [
        {
          "output_type": "stream",
          "name": "stdout",
          "text": [
            "[[0. 0.]\n",
            " [0. 0.]]\n"
          ]
        }
      ]
    },
    {
      "cell_type": "code",
      "metadata": {
        "id": "celTNQ54f9Fa",
        "colab": {
          "base_uri": "https://localhost:8080/"
        },
        "outputId": "ba39bff3-7425-45fe-ec85-cf1c5bebeb17"
      },
      "source": [
        "print(np.ones((2,3)))  # 유닛행렬"
      ],
      "execution_count": 26,
      "outputs": [
        {
          "output_type": "stream",
          "name": "stdout",
          "text": [
            "[[1. 1. 1.]\n",
            " [1. 1. 1.]]\n"
          ]
        }
      ]
    },
    {
      "cell_type": "code",
      "metadata": {
        "id": "e_-P9Q0JgBLt",
        "colab": {
          "base_uri": "https://localhost:8080/"
        },
        "outputId": "5d358805-dec5-4763-9d02-f15a2dc1d946"
      },
      "source": [
        "print(np.full((2,3), 5)) # 모든 원소가 5인 2*3행렬"
      ],
      "execution_count": 27,
      "outputs": [
        {
          "output_type": "stream",
          "name": "stdout",
          "text": [
            "[[5 5 5]\n",
            " [5 5 5]]\n"
          ]
        }
      ]
    },
    {
      "cell_type": "code",
      "metadata": {
        "id": "oxWQmrCDgFWB",
        "colab": {
          "base_uri": "https://localhost:8080/"
        },
        "outputId": "e9e0e69c-5dc1-4253-91ed-3a5f3689859a"
      },
      "source": [
        "print(np.eye(3)) # 단위행렬, 원-핫 인코딩에 활용"
      ],
      "execution_count": 28,
      "outputs": [
        {
          "output_type": "stream",
          "name": "stdout",
          "text": [
            "[[1. 0. 0.]\n",
            " [0. 1. 0.]\n",
            " [0. 0. 1.]]\n"
          ]
        }
      ]
    },
    {
      "cell_type": "markdown",
      "metadata": {
        "id": "RZ4RsImigI-V"
      },
      "source": [
        "\n",
        "\n",
        "*   배열의 차원 변환\n",
        "\n",
        "\n",
        "\n"
      ]
    },
    {
      "cell_type": "code",
      "metadata": {
        "id": "vYRS8oLwgP2r",
        "colab": {
          "base_uri": "https://localhost:8080/"
        },
        "outputId": "95d71101-c6a9-4022-d188-521dc92296ab"
      },
      "source": [
        "a = np.arange(20)\n",
        "print(a)"
      ],
      "execution_count": 29,
      "outputs": [
        {
          "output_type": "stream",
          "name": "stdout",
          "text": [
            "[ 0  1  2  3  4  5  6  7  8  9 10 11 12 13 14 15 16 17 18 19]\n"
          ]
        }
      ]
    },
    {
      "cell_type": "code",
      "metadata": {
        "id": "z5kEH948gUzT",
        "colab": {
          "base_uri": "https://localhost:8080/"
        },
        "outputId": "45b20c85-4672-40c8-8fb6-c662d28361e2"
      },
      "source": [
        "b=a.reshape((4,5))\n",
        "print(b)"
      ],
      "execution_count": 30,
      "outputs": [
        {
          "output_type": "stream",
          "name": "stdout",
          "text": [
            "[[ 0  1  2  3  4]\n",
            " [ 5  6  7  8  9]\n",
            " [10 11 12 13 14]\n",
            " [15 16 17 18 19]]\n"
          ]
        }
      ]
    },
    {
      "cell_type": "code",
      "metadata": {
        "id": "OLDMHd8zg09k"
      },
      "source": [
        "#import numpy as np\n",
        "\n",
        "a = np.arange(15).reshape(3, 5)"
      ],
      "execution_count": 31,
      "outputs": []
    },
    {
      "cell_type": "code",
      "metadata": {
        "colab": {
          "base_uri": "https://localhost:8080/"
        },
        "id": "3stdhoIshX9M",
        "outputId": "0926dafd-380d-441c-f6df-dd03f0dc15ba"
      },
      "source": [
        "a\n",
        "#array([[ 0,  1,  2,  3,  4],\n",
        "#       [ 5,  6,  7,  8,  9],\n",
        "#       [10, 11, 12, 13, 14]])"
      ],
      "execution_count": 32,
      "outputs": [
        {
          "output_type": "execute_result",
          "data": {
            "text/plain": [
              "array([[ 0,  1,  2,  3,  4],\n",
              "       [ 5,  6,  7,  8,  9],\n",
              "       [10, 11, 12, 13, 14]])"
            ]
          },
          "metadata": {},
          "execution_count": 32
        }
      ]
    },
    {
      "cell_type": "code",
      "metadata": {
        "colab": {
          "base_uri": "https://localhost:8080/"
        },
        "id": "-AzhzvP6hbDz",
        "outputId": "dc908f20-58ed-49fa-934b-58bfa64b256e"
      },
      "source": [
        "a.shape\n",
        "#(3, 5)"
      ],
      "execution_count": 33,
      "outputs": [
        {
          "output_type": "execute_result",
          "data": {
            "text/plain": [
              "(3, 5)"
            ]
          },
          "metadata": {},
          "execution_count": 33
        }
      ]
    },
    {
      "cell_type": "code",
      "source": [
        "d53 = a.reshape(5,3)\n",
        "d53"
      ],
      "metadata": {
        "colab": {
          "base_uri": "https://localhost:8080/"
        },
        "id": "am6dUOyMNji5",
        "outputId": "fc1c4331-f562-40f3-9a34-a9a50037e8ca"
      },
      "execution_count": 34,
      "outputs": [
        {
          "output_type": "execute_result",
          "data": {
            "text/plain": [
              "array([[ 0,  1,  2],\n",
              "       [ 3,  4,  5],\n",
              "       [ 6,  7,  8],\n",
              "       [ 9, 10, 11],\n",
              "       [12, 13, 14]])"
            ]
          },
          "metadata": {},
          "execution_count": 34
        }
      ]
    },
    {
      "cell_type": "code",
      "metadata": {
        "id": "tkIIF7qEhe4U",
        "colab": {
          "base_uri": "https://localhost:8080/"
        },
        "outputId": "73ff2ef3-c62d-499c-f05a-568c4c786b80"
      },
      "source": [
        "a.ndim\n",
        "#2"
      ],
      "execution_count": 35,
      "outputs": [
        {
          "output_type": "execute_result",
          "data": {
            "text/plain": [
              "2"
            ]
          },
          "metadata": {},
          "execution_count": 35
        }
      ]
    },
    {
      "cell_type": "code",
      "source": [
        "d53.ndim"
      ],
      "metadata": {
        "colab": {
          "base_uri": "https://localhost:8080/"
        },
        "id": "5fSF--0OOLLa",
        "outputId": "92a2ea19-a7ca-4110-f26a-56603b1bad52"
      },
      "execution_count": 36,
      "outputs": [
        {
          "output_type": "execute_result",
          "data": {
            "text/plain": [
              "2"
            ]
          },
          "metadata": {},
          "execution_count": 36
        }
      ]
    },
    {
      "cell_type": "code",
      "source": [
        "d15 = a.reshape(15,)\n",
        "d15"
      ],
      "metadata": {
        "colab": {
          "base_uri": "https://localhost:8080/"
        },
        "id": "mkymuUUCN5Q5",
        "outputId": "6041ba67-46b2-443e-bf5d-f16ea7ecd6ac"
      },
      "execution_count": 37,
      "outputs": [
        {
          "output_type": "execute_result",
          "data": {
            "text/plain": [
              "array([ 0,  1,  2,  3,  4,  5,  6,  7,  8,  9, 10, 11, 12, 13, 14])"
            ]
          },
          "metadata": {},
          "execution_count": 37
        }
      ]
    },
    {
      "cell_type": "code",
      "source": [
        "d15.ndim"
      ],
      "metadata": {
        "colab": {
          "base_uri": "https://localhost:8080/"
        },
        "id": "vcpdizoBOGaZ",
        "outputId": "507ee2e1-cbb2-46d9-a2b2-02c2b6b60b69"
      },
      "execution_count": 38,
      "outputs": [
        {
          "output_type": "execute_result",
          "data": {
            "text/plain": [
              "1"
            ]
          },
          "metadata": {},
          "execution_count": 38
        }
      ]
    },
    {
      "cell_type": "code",
      "metadata": {
        "colab": {
          "base_uri": "https://localhost:8080/"
        },
        "id": "jUKHFx9qhtQj",
        "outputId": "957f83f8-7ba5-453a-d5fd-fac58beea369"
      },
      "source": [
        "a.size\n",
        "#15"
      ],
      "execution_count": null,
      "outputs": [
        {
          "output_type": "execute_result",
          "data": {
            "text/plain": [
              "15"
            ]
          },
          "metadata": {
            "tags": []
          },
          "execution_count": 6
        }
      ]
    },
    {
      "cell_type": "code",
      "metadata": {
        "colab": {
          "base_uri": "https://localhost:8080/"
        },
        "id": "RW6MDB6ghv7D",
        "outputId": "f70877c8-2644-43ee-ab0c-74d8903c7fb1"
      },
      "source": [
        "type(a)\n",
        "#<type 'numpy.ndarray'>"
      ],
      "execution_count": null,
      "outputs": [
        {
          "output_type": "execute_result",
          "data": {
            "text/plain": [
              "numpy.ndarray"
            ]
          },
          "metadata": {
            "tags": []
          },
          "execution_count": 7
        }
      ]
    },
    {
      "cell_type": "code",
      "metadata": {
        "colab": {
          "base_uri": "https://localhost:8080/"
        },
        "id": "RY4Ytey2h0XL",
        "outputId": "49894c07-78cd-4447-efd3-e29710bbd212"
      },
      "source": [
        "b = np.array([6, 7, 8])\n",
        "b\n",
        "#array([6, 7, 8])"
      ],
      "execution_count": null,
      "outputs": [
        {
          "output_type": "execute_result",
          "data": {
            "text/plain": [
              "array([6, 7, 8])"
            ]
          },
          "metadata": {
            "tags": []
          },
          "execution_count": 8
        }
      ]
    },
    {
      "cell_type": "code",
      "metadata": {
        "colab": {
          "base_uri": "https://localhost:8080/"
        },
        "id": "SA5R5ZRmh5cj",
        "outputId": "c62310bc-ec1c-47a8-b8bc-a9bbf1185a2a"
      },
      "source": [
        "type(b)\n",
        "#<type 'numpy.ndarray'>"
      ],
      "execution_count": null,
      "outputs": [
        {
          "output_type": "execute_result",
          "data": {
            "text/plain": [
              "numpy.ndarray"
            ]
          },
          "metadata": {
            "tags": []
          },
          "execution_count": 9
        }
      ]
    },
    {
      "cell_type": "markdown",
      "metadata": {
        "id": "6ePltcJPgcCi"
      },
      "source": [
        "\n",
        "## 2.3 Numpy 슬라이싱/인덱싱"
      ]
    },
    {
      "cell_type": "code",
      "metadata": {
        "id": "9ZNYOnotg54i"
      },
      "source": [
        "import numpy as np"
      ],
      "execution_count": null,
      "outputs": []
    },
    {
      "cell_type": "code",
      "metadata": {
        "id": "KEM0SYNCyMwt"
      },
      "source": [
        "lst = [\n",
        "    [1, 2, 3],\n",
        "    [4, 5, 6],\n",
        "    [7, 8, 9]\n",
        "]"
      ],
      "execution_count": null,
      "outputs": []
    },
    {
      "cell_type": "code",
      "metadata": {
        "id": "LNx6CDgyg8Gl",
        "colab": {
          "base_uri": "https://localhost:8080/"
        },
        "outputId": "8fc949fd-f79e-40c7-c51f-1ccd04153485"
      },
      "source": [
        "arr = np.array(lst)\n",
        "a = arr[0:2, 0:2]\n",
        "print(a)"
      ],
      "execution_count": null,
      "outputs": [
        {
          "output_type": "stream",
          "name": "stdout",
          "text": [
            "[[1 2]\n",
            " [4 5]]\n"
          ]
        }
      ]
    },
    {
      "cell_type": "code",
      "metadata": {
        "id": "Du8D_bAFg9VG",
        "colab": {
          "base_uri": "https://localhost:8080/"
        },
        "outputId": "1af0020e-3b90-4ba4-df1d-ed4ed342b695"
      },
      "source": [
        "a = arr[1:, 1:]\n",
        "print(a)"
      ],
      "execution_count": null,
      "outputs": [
        {
          "output_type": "stream",
          "name": "stdout",
          "text": [
            "[[5 6]\n",
            " [8 9]]\n"
          ]
        }
      ]
    },
    {
      "cell_type": "markdown",
      "metadata": {
        "id": "_BVONjNVgg_x"
      },
      "source": [
        "![numpy.png](data:image/png;base64,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)"
      ]
    },
    {
      "cell_type": "code",
      "metadata": {
        "colab": {
          "base_uri": "https://localhost:8080/"
        },
        "id": "YgnJVweb8ZsP",
        "outputId": "9bd1dbf8-bf17-4d9f-be0a-c56b54a4554d"
      },
      "source": [
        "lst = [\n",
        "    [1, 2, 3],\n",
        "    [4, 5, 6],\n",
        "    [7, 8, 9]\n",
        "]\n",
        "\n",
        "a = lst[2]\n",
        "print(a)"
      ],
      "execution_count": null,
      "outputs": [
        {
          "output_type": "stream",
          "name": "stdout",
          "text": [
            "[7, 8, 9]\n"
          ]
        }
      ]
    },
    {
      "cell_type": "code",
      "metadata": {
        "colab": {
          "base_uri": "https://localhost:8080/"
        },
        "id": "gpAMRb_58qnB",
        "outputId": "15c57f11-909d-499b-9e50-0b21bff47466"
      },
      "source": [
        "lst = [\n",
        "    [1, 2, 3],\n",
        "    [4, 5, 6],\n",
        "    [7, 8, 9]\n",
        "]\n",
        "\n",
        "arr = np.array(lst)\n",
        "a = arr[1:2, :2]\n",
        "print(a)"
      ],
      "execution_count": null,
      "outputs": [
        {
          "output_type": "stream",
          "name": "stdout",
          "text": [
            "[[4 5]]\n"
          ]
        }
      ]
    },
    {
      "cell_type": "markdown",
      "metadata": {
        "id": "sdKJq_KkxvxO"
      },
      "source": [
        "## 2.4 난수 생성"
      ]
    },
    {
      "cell_type": "code",
      "source": [
        "r = np.random.rand(3)"
      ],
      "metadata": {
        "id": "2PCrgON4OUOF"
      },
      "execution_count": null,
      "outputs": []
    },
    {
      "cell_type": "code",
      "source": [
        "r"
      ],
      "metadata": {
        "colab": {
          "base_uri": "https://localhost:8080/"
        },
        "id": "NfSwtwzVOf8p",
        "outputId": "10d9439d-b265-49f3-e0a0-a039283cd7a3"
      },
      "execution_count": null,
      "outputs": [
        {
          "output_type": "execute_result",
          "data": {
            "text/plain": [
              "array([0.63932289, 0.38077118, 0.66872578])"
            ]
          },
          "metadata": {},
          "execution_count": 24
        }
      ]
    },
    {
      "cell_type": "code",
      "metadata": {
        "id": "ZqFBGSQWxxTC",
        "colab": {
          "base_uri": "https://localhost:8080/"
        },
        "outputId": "d1160044-0359-446e-d477-11417c142d1e"
      },
      "source": [
        "data = np.random.rand(3,5)\n",
        "data"
      ],
      "execution_count": null,
      "outputs": [
        {
          "output_type": "execute_result",
          "data": {
            "text/plain": [
              "array([[0.55216906, 0.41279126, 0.99970375, 0.03159767, 0.11340194],\n",
              "       [0.06252988, 0.86596613, 0.88281364, 0.48328358, 0.93602422],\n",
              "       [0.80746919, 0.3527363 , 0.71012282, 0.92203877, 0.91397306]])"
            ]
          },
          "metadata": {},
          "execution_count": 22
        }
      ]
    },
    {
      "cell_type": "code",
      "metadata": {
        "id": "Q-OpgPKi_caJ",
        "outputId": "2be7c48c-f24a-4bf6-c514-5abea450ce98",
        "colab": {
          "base_uri": "https://localhost:8080/"
        }
      },
      "source": [
        "print(data)"
      ],
      "execution_count": null,
      "outputs": [
        {
          "output_type": "stream",
          "name": "stdout",
          "text": [
            "[[0.51470109 0.45445642 0.29647342 0.78836482 0.54062173]\n",
            " [0.94632829 0.32561202 0.60869431 0.47358721 0.73439458]\n",
            " [0.15128152 0.1376124  0.50082285 0.83679815 0.74220427]]\n"
          ]
        }
      ]
    },
    {
      "cell_type": "code",
      "source": [
        "ni = np.random.randint(1, 100, 5)\n",
        "ni"
      ],
      "metadata": {
        "colab": {
          "base_uri": "https://localhost:8080/"
        },
        "id": "dga9v0TWOzG6",
        "outputId": "3aad486b-bbbb-4c13-edfb-458405c9ed14"
      },
      "execution_count": null,
      "outputs": [
        {
          "output_type": "execute_result",
          "data": {
            "text/plain": [
              "array([40, 66, 10, 34, 43])"
            ]
          },
          "metadata": {},
          "execution_count": 25
        }
      ]
    },
    {
      "cell_type": "code",
      "source": [
        "print(np.random.rand(3))\n",
        "print(np.random.rand(3))"
      ],
      "metadata": {
        "colab": {
          "base_uri": "https://localhost:8080/"
        },
        "id": "AZD5KaoDPIeD",
        "outputId": "3e7be58c-11f5-4a89-89cf-d3940687f796"
      },
      "execution_count": null,
      "outputs": [
        {
          "output_type": "stream",
          "name": "stdout",
          "text": [
            "[0.26384073 0.25235574 0.95229698]\n",
            "[0.77865715 0.96243333 0.09564765]\n"
          ]
        }
      ]
    },
    {
      "cell_type": "code",
      "source": [
        "np.random.seed(0)\n",
        "print(np.random.rand(3))\n",
        "np.random.seed(0)\n",
        "print(np.random.rand(3))"
      ],
      "metadata": {
        "colab": {
          "base_uri": "https://localhost:8080/"
        },
        "id": "fAISl3uPPOyu",
        "outputId": "7557022e-7ba3-48dd-87d7-3b3cb5708cdb"
      },
      "execution_count": null,
      "outputs": [
        {
          "output_type": "stream",
          "name": "stdout",
          "text": [
            "[0.5488135  0.71518937 0.60276338]\n",
            "[0.5488135  0.71518937 0.60276338]\n"
          ]
        }
      ]
    },
    {
      "cell_type": "markdown",
      "metadata": {
        "id": "jLcTsUf6xdQp"
      },
      "source": [
        "\n",
        "\n",
        "---\n",
        "\n",
        "# **심화 과정 (이후 생략)**"
      ]
    },
    {
      "cell_type": "markdown",
      "metadata": {
        "id": "sA3haQL9hcd2"
      },
      "source": [
        "## 2.5 Numpy 연산\n",
        "\n",
        "*   배열간 연산 가능\n",
        "*   +,-,*,/ 등의 연산자 사용가능\n",
        "*   add(),substract(),multiply(),divide()"
      ]
    },
    {
      "cell_type": "code",
      "metadata": {
        "id": "G6Tp0dbvhs2l"
      },
      "source": [
        "import numpy as np"
      ],
      "execution_count": null,
      "outputs": []
    },
    {
      "cell_type": "code",
      "metadata": {
        "id": "eQojUSc1yYs2"
      },
      "source": [
        "a = np.array([1,2,3])\n",
        "b = np.array([4,5,6])"
      ],
      "execution_count": null,
      "outputs": []
    },
    {
      "cell_type": "code",
      "metadata": {
        "id": "yBIbJkrQybE5"
      },
      "source": [
        "# 각 요소 더하기\n",
        "c = a+b\n",
        "print(c)"
      ],
      "execution_count": null,
      "outputs": []
    },
    {
      "cell_type": "code",
      "metadata": {
        "colab": {
          "base_uri": "https://localhost:8080/"
        },
        "id": "qmcdKSzfiJgN",
        "outputId": "360c250f-7d2a-4e71-98e0-bdc76cd20536"
      },
      "source": [
        "c= np.add(a, b)\n",
        "print(c) \n",
        "\n",
        "# [-3 -3 -3]\n",
        "\n",
        "# 각 요소 곱하기\n",
        "# c = a*b"
      ],
      "execution_count": null,
      "outputs": [
        {
          "output_type": "stream",
          "text": [
            "[5 7 9]\n"
          ],
          "name": "stdout"
        }
      ]
    },
    {
      "cell_type": "code",
      "metadata": {
        "colab": {
          "base_uri": "https://localhost:8080/"
        },
        "id": "Q4a4dgsTiSOv",
        "outputId": "4238f401-bc27-4cb1-e85b-f090f6acbd59"
      },
      "source": [
        "c = np.multiply(a, b)\n",
        "print(c) #[4 10 18]\n",
        "\n",
        "# 각 요소 나누기\n",
        "# c = a/b"
      ],
      "execution_count": null,
      "outputs": [
        {
          "output_type": "stream",
          "text": [
            "[ 4 10 18]\n"
          ],
          "name": "stdout"
        }
      ]
    },
    {
      "cell_type": "markdown",
      "metadata": {
        "id": "vT6fhA6zibJI"
      },
      "source": [
        "\n",
        "*   dot()함수: 행렬의 곱"
      ]
    },
    {
      "cell_type": "code",
      "metadata": {
        "id": "3ArAU4krieij"
      },
      "source": [
        "import numpy as np"
      ],
      "execution_count": null,
      "outputs": []
    },
    {
      "cell_type": "code",
      "metadata": {
        "id": "AU7McHj2yfLn"
      },
      "source": [
        "arr1 = [[1,2],[3,4]]\n",
        "arr2 = [[5,6],[7,8]]\n",
        "a = np.array(arr1)\n",
        "b = np.array(arr2)"
      ],
      "execution_count": null,
      "outputs": []
    },
    {
      "cell_type": "code",
      "metadata": {
        "id": "2GwEpazjim9y"
      },
      "source": [
        "c= np.dot(a, b)\n",
        "print(c)"
      ],
      "execution_count": null,
      "outputs": []
    },
    {
      "cell_type": "markdown",
      "metadata": {
        "id": "IbLMyb7rina-"
      },
      "source": [
        "\n",
        "\n",
        "*   모든 원소의 합: sum(), 모든 원소의 곱: prod()\n",
        "\n"
      ]
    },
    {
      "cell_type": "code",
      "metadata": {
        "id": "AZKmk8o_iprn"
      },
      "source": [
        "import numpy as np\n",
        "\n",
        "a = np.array([[-1,2,3],[3,4,8]])\n",
        "s = np.sum(a)\n",
        "print('sum=',a.sum()) \n",
        "\n",
        "# 행별/열별 연산 (axis=0/1)"
      ],
      "execution_count": null,
      "outputs": []
    },
    {
      "cell_type": "code",
      "metadata": {
        "id": "YB2M86uyi_I1"
      },
      "source": [
        "print('sum by row=',a.sum(axis=0))"
      ],
      "execution_count": null,
      "outputs": []
    },
    {
      "cell_type": "code",
      "metadata": {
        "id": "4lLC4La0jI4A"
      },
      "source": [
        "print('mean=',a.mean())"
      ],
      "execution_count": null,
      "outputs": []
    },
    {
      "cell_type": "markdown",
      "metadata": {
        "id": "Nn-Eer5smTjN"
      },
      "source": [
        "# 텐서플로우 개념 익히기 "
      ]
    },
    {
      "cell_type": "markdown",
      "metadata": {
        "id": "rfGgJ1g7maga"
      },
      "source": [
        "## 텐서플로우와 넘파이의 호환\n",
        "- 텐서플로우 버전과 동작 확인 "
      ]
    },
    {
      "cell_type": "code",
      "metadata": {
        "id": "OpB7bg4Jmo5b",
        "colab": {
          "base_uri": "https://localhost:8080/"
        },
        "outputId": "1e9ac56c-728c-48cf-809a-ee922bfe6b91"
      },
      "source": [
        "import tensorflow as tf\n",
        "\n",
        "print(tf.__version__)"
      ],
      "execution_count": null,
      "outputs": [
        {
          "output_type": "stream",
          "text": [
            "2.5.0\n",
            "tf.Tensor(\n",
            "[[0.06262374 0.8155997  0.9732857 ]\n",
            " [0.3334459  0.9561964  0.77328074]], shape=(2, 3), dtype=float32)\n",
            "<class 'tensorflow.python.framework.ops.EagerTensor'>\n"
          ],
          "name": "stdout"
        }
      ]
    },
    {
      "cell_type": "code",
      "metadata": {
        "id": "1taHPk-K1gGc"
      },
      "source": [
        "a = tf.random.uniform([2, 3], 0, 1)\n",
        "print(a)"
      ],
      "execution_count": null,
      "outputs": []
    },
    {
      "cell_type": "code",
      "metadata": {
        "id": "KCClWDLQ1h5F"
      },
      "source": [
        "print(type(a))"
      ],
      "execution_count": null,
      "outputs": []
    },
    {
      "cell_type": "markdown",
      "metadata": {
        "id": "4KYmujqtmO1U"
      },
      "source": [
        "- 텐서플로와 넘파이의 호환을 확인"
      ]
    },
    {
      "cell_type": "code",
      "metadata": {
        "colab": {
          "base_uri": "https://localhost:8080/"
        },
        "id": "Ta5Xj9hKmX76",
        "outputId": "7ce5d6d2-b4be-4d5b-cb7f-791d18f31cdc"
      },
      "source": [
        "import tensorflow as tf\n",
        "import numpy as np\n",
        "\n",
        "t=tf.random.uniform([2,3],0,1)\n",
        "n=np.random.uniform(0,1,[2,3])\n",
        "print(\"tensorflow로 생성한 텐서:\\n\",t,\"\\n\")\n",
        "print(\"numpy로 생성한 ndarray:\\n\",n,\"\\n\")\n",
        "\n",
        "res=t+n # 텐서 t와 ndarray n의 덧셈\n",
        "print(\"덧셈 결과:\\n\",res)"
      ],
      "execution_count": null,
      "outputs": [
        {
          "output_type": "stream",
          "text": [
            "tensorflow로 생성한 텐서:\n",
            " tf.Tensor(\n",
            "[[0.19904006 0.31178224 0.9295348 ]\n",
            " [0.76035595 0.2824638  0.45466864]], shape=(2, 3), dtype=float32) \n",
            "\n",
            "numpy로 생성한 ndarray:\n",
            " [[0.91246262 0.74667742 0.46105066]\n",
            " [0.81970122 0.52777127 0.61532404]] \n",
            "\n",
            "덧셈 결과:\n",
            " tf.Tensor(\n",
            "[[1.1115026 1.0584596 1.3905854]\n",
            " [1.5800571 0.8102351 1.0699927]], shape=(2, 3), dtype=float32)\n"
          ],
          "name": "stdout"
        }
      ]
    }
  ]
}