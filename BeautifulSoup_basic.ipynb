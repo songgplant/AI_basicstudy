{
  "nbformat": 4,
  "nbformat_minor": 0,
  "metadata": {
    "colab": {
      "name": "BeautifulSoup_basic.ipynb",
      "provenance": [],
      "collapsed_sections": [],
      "authorship_tag": "ABX9TyPiTn/e+bNrJswuSdwVxBNf"
    },
    "kernelspec": {
      "name": "python3",
      "display_name": "Python 3"
    },
    "language_info": {
      "name": "python"
    }
  },
  "cells": [
    {
      "cell_type": "markdown",
      "source": [
        "# BeautifulSoup"
      ],
      "metadata": {
        "id": "EJkdzyvdai4R"
      }
    },
    {
      "cell_type": "code",
      "source": [
        "%%writefile example.html\n",
        "<!DOCYTYPE HTML>\n",
        "<html>\n",
        "  <head>\n",
        "  <title>HTML 기본구조</title>\n",
        "  <meta charset=\"UTF-8\">\n",
        "  </head>\n",
        "  <body>\n",
        "      <h1>HTML 5 구조를 공부합시다.</h1>\n",
        "  </body>\n",
        "</html>"
      ],
      "metadata": {
        "colab": {
          "base_uri": "https://localhost:8080/"
        },
        "id": "RQz9mYhPZaGy",
        "outputId": "c063c052-1222-4434-ec66-219082ab6c98"
      },
      "execution_count": 1,
      "outputs": [
        {
          "output_type": "stream",
          "name": "stdout",
          "text": [
            "Writing example.html\n"
          ]
        }
      ]
    },
    {
      "cell_type": "code",
      "execution_count": 2,
      "metadata": {
        "id": "RdiTS8TMX1j0"
      },
      "outputs": [],
      "source": [
        "from bs4 import BeautifulSoup\n",
        "import urllib.request\n",
        "\n",
        "with open(\"example.html\") as fp :\n",
        "  soup = BeautifulSoup(fp, \"html.parser\")"
      ]
    },
    {
      "cell_type": "code",
      "source": [
        "soup"
      ],
      "metadata": {
        "colab": {
          "base_uri": "https://localhost:8080/"
        },
        "id": "FezV05k5Zsj_",
        "outputId": "18da4d7b-755a-41cc-b99d-15d193d6c969"
      },
      "execution_count": 3,
      "outputs": [
        {
          "output_type": "execute_result",
          "data": {
            "text/plain": [
              "<!--DOCYTYPE HTML-->\n",
              "<html>\n",
              "<head>\n",
              "<title>HTML 기본구조</title>\n",
              "<meta charset=\"utf-8\"/>\n",
              "</head>\n",
              "<body>\n",
              "<h1>HTML 5 구조를 공부합시다.</h1>\n",
              "</body>\n",
              "</html>"
            ]
          },
          "metadata": {},
          "execution_count": 3
        }
      ]
    },
    {
      "cell_type": "code",
      "source": [
        "print(soup.prettify())"
      ],
      "metadata": {
        "colab": {
          "base_uri": "https://localhost:8080/"
        },
        "id": "B9rZ0SvOZtXw",
        "outputId": "e4dac6cf-f9a0-4a78-89ad-99d855309567"
      },
      "execution_count": 4,
      "outputs": [
        {
          "output_type": "stream",
          "name": "stdout",
          "text": [
            "<!--DOCYTYPE HTML-->\n",
            "<html>\n",
            " <head>\n",
            "  <title>\n",
            "   HTML 기본구조\n",
            "  </title>\n",
            "  <meta charset=\"utf-8\"/>\n",
            " </head>\n",
            " <body>\n",
            "  <h1>\n",
            "   HTML 5 구조를 공부합시다.\n",
            "  </h1>\n",
            " </body>\n",
            "</html>\n"
          ]
        }
      ]
    },
    {
      "cell_type": "code",
      "source": [
        "soup.title"
      ],
      "metadata": {
        "colab": {
          "base_uri": "https://localhost:8080/"
        },
        "id": "nR-z5ursaHSw",
        "outputId": "25056a9e-2e0e-45ec-c642-503b8736107c"
      },
      "execution_count": 5,
      "outputs": [
        {
          "output_type": "execute_result",
          "data": {
            "text/plain": [
              "<title>HTML 기본구조</title>"
            ]
          },
          "metadata": {},
          "execution_count": 5
        }
      ]
    },
    {
      "cell_type": "code",
      "source": [
        "soup.title.name"
      ],
      "metadata": {
        "colab": {
          "base_uri": "https://localhost:8080/",
          "height": 35
        },
        "id": "3a9PJCXwaJMi",
        "outputId": "4c72eef9-c319-449f-eaf1-dc4f133826cc"
      },
      "execution_count": 6,
      "outputs": [
        {
          "output_type": "execute_result",
          "data": {
            "text/plain": [
              "'title'"
            ],
            "application/vnd.google.colaboratory.intrinsic+json": {
              "type": "string"
            }
          },
          "metadata": {},
          "execution_count": 6
        }
      ]
    },
    {
      "cell_type": "code",
      "source": [
        "soup.title.string"
      ],
      "metadata": {
        "colab": {
          "base_uri": "https://localhost:8080/",
          "height": 35
        },
        "id": "-wv5vMd9aLL-",
        "outputId": "f17a3ee4-00d0-495c-bc73-5cef537431af"
      },
      "execution_count": 7,
      "outputs": [
        {
          "output_type": "execute_result",
          "data": {
            "text/plain": [
              "'HTML 기본구조'"
            ],
            "application/vnd.google.colaboratory.intrinsic+json": {
              "type": "string"
            }
          },
          "metadata": {},
          "execution_count": 7
        }
      ]
    },
    {
      "cell_type": "code",
      "source": [
        "soup.title.parent"
      ],
      "metadata": {
        "colab": {
          "base_uri": "https://localhost:8080/"
        },
        "id": "wfbT8-YIaMfX",
        "outputId": "cf0f08e5-6cae-4688-bba4-08b1c75f5ddc"
      },
      "execution_count": 8,
      "outputs": [
        {
          "output_type": "execute_result",
          "data": {
            "text/plain": [
              "<head>\n",
              "<title>HTML 기본구조</title>\n",
              "<meta charset=\"utf-8\"/>\n",
              "</head>"
            ]
          },
          "metadata": {},
          "execution_count": 8
        }
      ]
    },
    {
      "cell_type": "code",
      "source": [
        "soup.title.parent.name"
      ],
      "metadata": {
        "colab": {
          "base_uri": "https://localhost:8080/",
          "height": 35
        },
        "id": "01jy3eVlaO4f",
        "outputId": "69663f26-5d1d-49ee-8e4d-33763338859b"
      },
      "execution_count": 9,
      "outputs": [
        {
          "output_type": "execute_result",
          "data": {
            "text/plain": [
              "'head'"
            ],
            "application/vnd.google.colaboratory.intrinsic+json": {
              "type": "string"
            }
          },
          "metadata": {},
          "execution_count": 9
        }
      ]
    },
    {
      "cell_type": "code",
      "source": [
        "soup.h1"
      ],
      "metadata": {
        "colab": {
          "base_uri": "https://localhost:8080/"
        },
        "id": "30wIbSORaS9Z",
        "outputId": "9593903a-0a04-4dd2-9795-7093f4814a60"
      },
      "execution_count": 10,
      "outputs": [
        {
          "output_type": "execute_result",
          "data": {
            "text/plain": [
              "<h1>HTML 5 구조를 공부합시다.</h1>"
            ]
          },
          "metadata": {},
          "execution_count": 10
        }
      ]
    },
    {
      "cell_type": "code",
      "source": [
        "soup.p"
      ],
      "metadata": {
        "id": "HkAN3U04aVMs"
      },
      "execution_count": 11,
      "outputs": []
    },
    {
      "cell_type": "code",
      "source": [
        "soup.div"
      ],
      "metadata": {
        "id": "TlwLk2KdaWCH"
      },
      "execution_count": 12,
      "outputs": []
    },
    {
      "cell_type": "code",
      "source": [
        "soup.a"
      ],
      "metadata": {
        "id": "rch4mKB0adyF"
      },
      "execution_count": 13,
      "outputs": []
    },
    {
      "cell_type": "markdown",
      "source": [
        "# HTML 태그 검색\n",
        "다 알 수 없다.\n",
        "- find() : 해당 조건에 맞는 하나의 태그를 가져옴\n",
        "- find_all() : 해당 조건에 맞는 모든 태그를 가져옴\n",
        "- select() : css 선택자와 같은 형식으로 선택 가능"
      ],
      "metadata": {
        "id": "00RfYWEsaf_Y"
      }
    },
    {
      "cell_type": "code",
      "source": [
        "soup_find = soup.find(\"h1\")\n",
        "soup_find"
      ],
      "metadata": {
        "colab": {
          "base_uri": "https://localhost:8080/"
        },
        "id": "7XjG2CNwae8c",
        "outputId": "2f9d9c7c-3047-4632-eff2-0c07c77d260a"
      },
      "execution_count": 14,
      "outputs": [
        {
          "output_type": "execute_result",
          "data": {
            "text/plain": [
              "<h1>HTML 5 구조를 공부합시다.</h1>"
            ]
          },
          "metadata": {},
          "execution_count": 14
        }
      ]
    },
    {
      "cell_type": "code",
      "source": [
        "soup.find_all(\"div\")"
      ],
      "metadata": {
        "colab": {
          "base_uri": "https://localhost:8080/"
        },
        "id": "ctOBjVS4a8SE",
        "outputId": "df678f9a-4b16-4b9d-89c2-d21d559fdfc3"
      },
      "execution_count": 15,
      "outputs": [
        {
          "output_type": "execute_result",
          "data": {
            "text/plain": [
              "[]"
            ]
          },
          "metadata": {},
          "execution_count": 15
        }
      ]
    },
    {
      "cell_type": "code",
      "source": [
        "soup_find_all = soup.find_all(\"head\")"
      ],
      "metadata": {
        "id": "irK5iN4TbBDg"
      },
      "execution_count": 17,
      "outputs": []
    },
    {
      "cell_type": "code",
      "source": [
        "soup_find_all"
      ],
      "metadata": {
        "colab": {
          "base_uri": "https://localhost:8080/"
        },
        "id": "saYSNs4qbDPF",
        "outputId": "3299b1c9-7499-4526-e064-e2ef71873553"
      },
      "execution_count": 18,
      "outputs": [
        {
          "output_type": "execute_result",
          "data": {
            "text/plain": [
              "[<head>\n",
              " <title>HTML 기본구조</title>\n",
              " <meta charset=\"utf-8\"/>\n",
              " </head>]"
            ]
          },
          "metadata": {},
          "execution_count": 18
        }
      ]
    },
    {
      "cell_type": "code",
      "source": [
        "soup_find_all[:]"
      ],
      "metadata": {
        "colab": {
          "base_uri": "https://localhost:8080/"
        },
        "id": "sVHC8PUabIE2",
        "outputId": "8c81f94d-1026-437e-a509-1be2bcb5e82b"
      },
      "execution_count": 21,
      "outputs": [
        {
          "output_type": "execute_result",
          "data": {
            "text/plain": [
              "[<head>\n",
              " <title>HTML 기본구조</title>\n",
              " <meta charset=\"utf-8\"/>\n",
              " </head>]"
            ]
          },
          "metadata": {},
          "execution_count": 21
        }
      ]
    },
    {
      "cell_type": "code",
      "source": [
        "find_by_id = soup.find_all('div', {'id':'id1'})\n",
        "\n",
        "find_by_id"
      ],
      "metadata": {
        "colab": {
          "base_uri": "https://localhost:8080/"
        },
        "id": "y80E3cRubKMc",
        "outputId": "5e0ef590-845f-4bdc-93d5-a025743d1f11"
      },
      "execution_count": 22,
      "outputs": [
        {
          "output_type": "execute_result",
          "data": {
            "text/plain": [
              "[]"
            ]
          },
          "metadata": {},
          "execution_count": 22
        }
      ]
    },
    {
      "cell_type": "code",
      "source": [
        "find_by_class = soup.find_all('div', {'class':'class1'}) # class가 class1인 것만\n",
        "\n",
        "find_by_class"
      ],
      "metadata": {
        "id": "PTa500XLbZZR"
      },
      "execution_count": null,
      "outputs": []
    },
    {
      "cell_type": "code",
      "source": [
        "soup.find('a').get('href')\n",
        "soup.find('a').get_text()"
      ],
      "metadata": {
        "id": "i-74CeM2bfFW"
      },
      "execution_count": null,
      "outputs": []
    },
    {
      "cell_type": "markdown",
      "source": [
        "## 원하는 html 가져오는 법"
      ],
      "metadata": {
        "id": "mPi6iLMibr1L"
      }
    },
    {
      "cell_type": "code",
      "source": [
        "from bs4 import BeautifulSoup\n",
        "import requests\n",
        "import pandas as pd\n",
        "\n",
        "res_comic = requests.get('https://comic.naver.com/index')\n",
        "soup_comic = BeautifulSoup(res_comic.text, 'lxml')\n",
        "\n",
        "soup_comic"
      ],
      "metadata": {
        "id": "W_sMTuyHbqba"
      },
      "execution_count": null,
      "outputs": []
    },
    {
      "cell_type": "code",
      "source": [
        "comic_all = soup_comic.find(\"ol\", attrs = {\"id\":\"realTimeRankFavorite\"}).find_all(\"li\")\n",
        "\n",
        "list_comic_all = []\n",
        "for rank, comic in enumerate(comic_all) :\n",
        "  list_comic = []\n",
        "  list_comic.append(rank+1)\n",
        "  list_comic.append(comic.a.text.strip())\n",
        "  list_comic.append('https://comic.naver.com' + comic.a['href'])\n",
        "  list_comic_all.append(list_comic)\n",
        "\n",
        "df_comic = pd.DataFrame(list_comic_all, columns = ['순위', '제목', '링크'])\n",
        "df_comic"
      ],
      "metadata": {
        "colab": {
          "base_uri": "https://localhost:8080/",
          "height": 363
        },
        "id": "W3NuJwiXcWxp",
        "outputId": "ce587ab8-6d15-4177-e4bd-a7a12d325f50"
      },
      "execution_count": 24,
      "outputs": [
        {
          "output_type": "execute_result",
          "data": {
            "text/plain": [
              "   순위                         제목  \\\n",
              "0   1                    참교육-93화   \n",
              "1   2     퀘스트지상주의-43화 너 이런 거 하지마   \n",
              "2   3             소녀의 세계-2부 113화   \n",
              "3   4       윈드브레이커-4부 - 23화 HOT남   \n",
              "4   5              백수세끼-139화 녹두전   \n",
              "5   6               신의 탑-3부 133화   \n",
              "6   7          팔이피플-44화 - 폭로의 홍수   \n",
              "7   8    뷰티풀 군바리-341화_신임 중대장 (4)   \n",
              "8   9     신화급 귀속 아이템을 손에 넣었다-11화   \n",
              "9  10  버림받은 왕녀의 은밀한 침실-7화. 낙인 부활   \n",
              "\n",
              "                                                  링크  \n",
              "0  https://comic.naver.com/webtoon/detail?titleId...  \n",
              "1  https://comic.naver.com/webtoon/detail?titleId...  \n",
              "2  https://comic.naver.com/webtoon/detail?titleId...  \n",
              "3  https://comic.naver.com/webtoon/detail?titleId...  \n",
              "4  https://comic.naver.com/webtoon/detail?titleId...  \n",
              "5  https://comic.naver.com/webtoon/detail?titleId...  \n",
              "6  https://comic.naver.com/webtoon/detail?titleId...  \n",
              "7  https://comic.naver.com/webtoon/detail?titleId...  \n",
              "8  https://comic.naver.com/webtoon/detail?titleId...  \n",
              "9  https://comic.naver.com/webtoon/detail?titleId...  "
            ],
            "text/html": [
              "\n",
              "  <div id=\"df-b4c18a29-1ef9-4c93-a83d-487b72fccf4d\">\n",
              "    <div class=\"colab-df-container\">\n",
              "      <div>\n",
              "<style scoped>\n",
              "    .dataframe tbody tr th:only-of-type {\n",
              "        vertical-align: middle;\n",
              "    }\n",
              "\n",
              "    .dataframe tbody tr th {\n",
              "        vertical-align: top;\n",
              "    }\n",
              "\n",
              "    .dataframe thead th {\n",
              "        text-align: right;\n",
              "    }\n",
              "</style>\n",
              "<table border=\"1\" class=\"dataframe\">\n",
              "  <thead>\n",
              "    <tr style=\"text-align: right;\">\n",
              "      <th></th>\n",
              "      <th>순위</th>\n",
              "      <th>제목</th>\n",
              "      <th>링크</th>\n",
              "    </tr>\n",
              "  </thead>\n",
              "  <tbody>\n",
              "    <tr>\n",
              "      <th>0</th>\n",
              "      <td>1</td>\n",
              "      <td>참교육-93화</td>\n",
              "      <td>https://comic.naver.com/webtoon/detail?titleId...</td>\n",
              "    </tr>\n",
              "    <tr>\n",
              "      <th>1</th>\n",
              "      <td>2</td>\n",
              "      <td>퀘스트지상주의-43화 너 이런 거 하지마</td>\n",
              "      <td>https://comic.naver.com/webtoon/detail?titleId...</td>\n",
              "    </tr>\n",
              "    <tr>\n",
              "      <th>2</th>\n",
              "      <td>3</td>\n",
              "      <td>소녀의 세계-2부 113화</td>\n",
              "      <td>https://comic.naver.com/webtoon/detail?titleId...</td>\n",
              "    </tr>\n",
              "    <tr>\n",
              "      <th>3</th>\n",
              "      <td>4</td>\n",
              "      <td>윈드브레이커-4부 - 23화 HOT남</td>\n",
              "      <td>https://comic.naver.com/webtoon/detail?titleId...</td>\n",
              "    </tr>\n",
              "    <tr>\n",
              "      <th>4</th>\n",
              "      <td>5</td>\n",
              "      <td>백수세끼-139화 녹두전</td>\n",
              "      <td>https://comic.naver.com/webtoon/detail?titleId...</td>\n",
              "    </tr>\n",
              "    <tr>\n",
              "      <th>5</th>\n",
              "      <td>6</td>\n",
              "      <td>신의 탑-3부 133화</td>\n",
              "      <td>https://comic.naver.com/webtoon/detail?titleId...</td>\n",
              "    </tr>\n",
              "    <tr>\n",
              "      <th>6</th>\n",
              "      <td>7</td>\n",
              "      <td>팔이피플-44화 - 폭로의 홍수</td>\n",
              "      <td>https://comic.naver.com/webtoon/detail?titleId...</td>\n",
              "    </tr>\n",
              "    <tr>\n",
              "      <th>7</th>\n",
              "      <td>8</td>\n",
              "      <td>뷰티풀 군바리-341화_신임 중대장 (4)</td>\n",
              "      <td>https://comic.naver.com/webtoon/detail?titleId...</td>\n",
              "    </tr>\n",
              "    <tr>\n",
              "      <th>8</th>\n",
              "      <td>9</td>\n",
              "      <td>신화급 귀속 아이템을 손에 넣었다-11화</td>\n",
              "      <td>https://comic.naver.com/webtoon/detail?titleId...</td>\n",
              "    </tr>\n",
              "    <tr>\n",
              "      <th>9</th>\n",
              "      <td>10</td>\n",
              "      <td>버림받은 왕녀의 은밀한 침실-7화. 낙인 부활</td>\n",
              "      <td>https://comic.naver.com/webtoon/detail?titleId...</td>\n",
              "    </tr>\n",
              "  </tbody>\n",
              "</table>\n",
              "</div>\n",
              "      <button class=\"colab-df-convert\" onclick=\"convertToInteractive('df-b4c18a29-1ef9-4c93-a83d-487b72fccf4d')\"\n",
              "              title=\"Convert this dataframe to an interactive table.\"\n",
              "              style=\"display:none;\">\n",
              "        \n",
              "  <svg xmlns=\"http://www.w3.org/2000/svg\" height=\"24px\"viewBox=\"0 0 24 24\"\n",
              "       width=\"24px\">\n",
              "    <path d=\"M0 0h24v24H0V0z\" fill=\"none\"/>\n",
              "    <path d=\"M18.56 5.44l.94 2.06.94-2.06 2.06-.94-2.06-.94-.94-2.06-.94 2.06-2.06.94zm-11 1L8.5 8.5l.94-2.06 2.06-.94-2.06-.94L8.5 2.5l-.94 2.06-2.06.94zm10 10l.94 2.06.94-2.06 2.06-.94-2.06-.94-.94-2.06-.94 2.06-2.06.94z\"/><path d=\"M17.41 7.96l-1.37-1.37c-.4-.4-.92-.59-1.43-.59-.52 0-1.04.2-1.43.59L10.3 9.45l-7.72 7.72c-.78.78-.78 2.05 0 2.83L4 21.41c.39.39.9.59 1.41.59.51 0 1.02-.2 1.41-.59l7.78-7.78 2.81-2.81c.8-.78.8-2.07 0-2.86zM5.41 20L4 18.59l7.72-7.72 1.47 1.35L5.41 20z\"/>\n",
              "  </svg>\n",
              "      </button>\n",
              "      \n",
              "  <style>\n",
              "    .colab-df-container {\n",
              "      display:flex;\n",
              "      flex-wrap:wrap;\n",
              "      gap: 12px;\n",
              "    }\n",
              "\n",
              "    .colab-df-convert {\n",
              "      background-color: #E8F0FE;\n",
              "      border: none;\n",
              "      border-radius: 50%;\n",
              "      cursor: pointer;\n",
              "      display: none;\n",
              "      fill: #1967D2;\n",
              "      height: 32px;\n",
              "      padding: 0 0 0 0;\n",
              "      width: 32px;\n",
              "    }\n",
              "\n",
              "    .colab-df-convert:hover {\n",
              "      background-color: #E2EBFA;\n",
              "      box-shadow: 0px 1px 2px rgba(60, 64, 67, 0.3), 0px 1px 3px 1px rgba(60, 64, 67, 0.15);\n",
              "      fill: #174EA6;\n",
              "    }\n",
              "\n",
              "    [theme=dark] .colab-df-convert {\n",
              "      background-color: #3B4455;\n",
              "      fill: #D2E3FC;\n",
              "    }\n",
              "\n",
              "    [theme=dark] .colab-df-convert:hover {\n",
              "      background-color: #434B5C;\n",
              "      box-shadow: 0px 1px 3px 1px rgba(0, 0, 0, 0.15);\n",
              "      filter: drop-shadow(0px 1px 2px rgba(0, 0, 0, 0.3));\n",
              "      fill: #FFFFFF;\n",
              "    }\n",
              "  </style>\n",
              "\n",
              "      <script>\n",
              "        const buttonEl =\n",
              "          document.querySelector('#df-b4c18a29-1ef9-4c93-a83d-487b72fccf4d button.colab-df-convert');\n",
              "        buttonEl.style.display =\n",
              "          google.colab.kernel.accessAllowed ? 'block' : 'none';\n",
              "\n",
              "        async function convertToInteractive(key) {\n",
              "          const element = document.querySelector('#df-b4c18a29-1ef9-4c93-a83d-487b72fccf4d');\n",
              "          const dataTable =\n",
              "            await google.colab.kernel.invokeFunction('convertToInteractive',\n",
              "                                                     [key], {});\n",
              "          if (!dataTable) return;\n",
              "\n",
              "          const docLinkHtml = 'Like what you see? Visit the ' +\n",
              "            '<a target=\"_blank\" href=https://colab.research.google.com/notebooks/data_table.ipynb>data table notebook</a>'\n",
              "            + ' to learn more about interactive tables.';\n",
              "          element.innerHTML = '';\n",
              "          dataTable['output_type'] = 'display_data';\n",
              "          await google.colab.output.renderOutput(dataTable, element);\n",
              "          const docLink = document.createElement('div');\n",
              "          docLink.innerHTML = docLinkHtml;\n",
              "          element.appendChild(docLink);\n",
              "        }\n",
              "      </script>\n",
              "    </div>\n",
              "  </div>\n",
              "  "
            ]
          },
          "metadata": {},
          "execution_count": 24
        }
      ]
    },
    {
      "cell_type": "code",
      "source": [
        ""
      ],
      "metadata": {
        "id": "Tbsa6COTeeI4"
      },
      "execution_count": null,
      "outputs": []
    }
  ]
}