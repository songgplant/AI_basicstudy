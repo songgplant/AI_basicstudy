{
  "nbformat": 4,
  "nbformat_minor": 0,
  "metadata": {
    "colab": {
      "name": "Tensorflow_version.ipynb",
      "provenance": [],
      "collapsed_sections": [],
      "authorship_tag": "ABX9TyOtEHmQ9xmmVxsstg/O7Hm9"
    },
    "kernelspec": {
      "name": "python3",
      "display_name": "Python 3"
    },
    "language_info": {
      "name": "python"
    }
  },
  "cells": [
    {
      "cell_type": "code",
      "execution_count": null,
      "metadata": {
        "id": "eJg6cNZS1uwk"
      },
      "outputs": [],
      "source": [
        "import tensorflow as tf"
      ]
    },
    {
      "cell_type": "code",
      "source": [
        "print(tf.__version__)"
      ],
      "metadata": {
        "colab": {
          "base_uri": "https://localhost:8080/"
        },
        "id": "kISIo4lQ10dZ",
        "outputId": "549aba12-0f68-4018-acad-b76b4aa00700"
      },
      "execution_count": null,
      "outputs": [
        {
          "output_type": "stream",
          "name": "stdout",
          "text": [
            "2.8.2\n"
          ]
        }
      ]
    },
    {
      "cell_type": "code",
      "source": [
        "# 2행 3열, 0부터 1 사이 값의 난수\n",
        "a = tf.random.uniform([2, 3], 0, 1)"
      ],
      "metadata": {
        "id": "CfUI7P7t15cE"
      },
      "execution_count": null,
      "outputs": []
    },
    {
      "cell_type": "code",
      "source": [
        "print(a)"
      ],
      "metadata": {
        "colab": {
          "base_uri": "https://localhost:8080/"
        },
        "id": "pAtRxM0r2Vjr",
        "outputId": "00023fa5-941c-483d-fa29-6278697c27e6"
      },
      "execution_count": null,
      "outputs": [
        {
          "output_type": "stream",
          "name": "stdout",
          "text": [
            "tf.Tensor(\n",
            "[[0.7789525  0.956946   0.00433397]\n",
            " [0.88303685 0.12594914 0.9810355 ]], shape=(2, 3), dtype=float32)\n"
          ]
        }
      ]
    },
    {
      "cell_type": "code",
      "source": [
        "print(type(a))"
      ],
      "metadata": {
        "colab": {
          "base_uri": "https://localhost:8080/"
        },
        "id": "dAPKmHIe2Wu7",
        "outputId": "231ef9aa-c484-46e5-e263-5052ada1748e"
      },
      "execution_count": null,
      "outputs": [
        {
          "output_type": "stream",
          "name": "stdout",
          "text": [
            "<class 'tensorflow.python.framework.ops.EagerTensor'>\n"
          ]
        }
      ]
    },
    {
      "cell_type": "markdown",
      "source": [
        "## 일반 프로그램과 머신러닝, 딥러닝의 차이"
      ],
      "metadata": {
        "id": "1p1nIvUH7Ni7"
      }
    },
    {
      "cell_type": "code",
      "source": [
        "#일반 프로그램\n",
        "def cal(x):\n",
        "    return 3*x + 1\n",
        "# x =1, return = 4\n",
        "# 화면에서 입력값을 받는다. x= 8을 입력.\n",
        "x = int(input())\n",
        "print(cal(x))"
      ],
      "metadata": {
        "colab": {
          "base_uri": "https://localhost:8080/"
        },
        "id": "XJLSgPIb2mqd",
        "outputId": "b772f39d-d800-469c-e520-4d3164896638"
      },
      "execution_count": null,
      "outputs": [
        {
          "output_type": "stream",
          "name": "stdout",
          "text": [
            "8\n",
            "25\n"
          ]
        }
      ]
    },
    {
      "cell_type": "code",
      "source": [
        "# 머신러닝\n",
        "# 필요 패키지를 정의\n",
        "import sklearn\n",
        "from sklearn import linear_model\n",
        "import numpy as np\n",
        "# 학습 데이터\n",
        "x_train = np.array([1.0, 2.0, 3.0, 4.0, 5.0, 6.0, 7.0], dtype=float).reshape(-1,1)\n",
        "y_train = np.array([4.0, 7.0, 10.0, 13.0, 16.0, 19.0, 22.0], dtype=float)\n",
        "# 알고리즘 = LinearRegression (선형회귀)\n",
        "model = sklearn.linear_model.LinearRegression()\n",
        "# 실제 학습 \n",
        "model.fit(x_train, y_train)\n",
        "# 학습된 모델에 실제 입력값을 주고 예측하게 함 \n",
        "print(model.predict([[8.0]]))"
      ],
      "metadata": {
        "colab": {
          "base_uri": "https://localhost:8080/"
        },
        "id": "CIKj6rhF7sB_",
        "outputId": "91703c75-01be-40da-f541-3c317d62fc93"
      },
      "execution_count": null,
      "outputs": [
        {
          "output_type": "stream",
          "name": "stdout",
          "text": [
            "[25.]\n"
          ]
        }
      ]
    },
    {
      "cell_type": "code",
      "source": [
        "# 딥러닝\n",
        "# 필요 패키지를 정의 \n",
        "import numpy as np\n",
        "import tensorflow\n",
        "from tensorflow import keras\n",
        "from tensorflow.keras.models import Sequential\n",
        "from tensorflow.keras.layers import Dense\n",
        "# 학습 데이터\n",
        "x_train = np.array([1.0, 2.0, 3.0, 4.0, 5.0, 6.0, 7.0], dtype=float)\n",
        "y_train = np.array([4.0, 7.0, 10.0, 13.0, 16.0, 19.0, 22.0], dtype=float)\n",
        "# 알고리즘을 정의. 입력값이 1개, 출력값이 1개인 레이어)\n",
        "model = tensorflow.keras.models.Sequential([tensorflow.keras.layers.Dense(units=1, input_shape=(1,))])\n",
        "# 정의된 알고리즘을 학습하면서 필요한 사항을 정의) \n",
        "model.compile(optimizer='sgd', loss='mean_squared_error')\n",
        "# 실제 학습\n",
        "model.fit(x_train,y_train, epochs=500, verbose=0)\n",
        "# 학습된 모델에 실제 입력값을 주고 예측하게 함\n",
        "print(model.predict([8.0]))"
      ],
      "metadata": {
        "colab": {
          "base_uri": "https://localhost:8080/"
        },
        "id": "A0WMfwnb7vyI",
        "outputId": "52f7f73d-e5bc-486f-ca8e-ef095dffdb5b"
      },
      "execution_count": null,
      "outputs": [
        {
          "output_type": "stream",
          "name": "stdout",
          "text": [
            "[[25.030802]]\n"
          ]
        }
      ]
    },
    {
      "cell_type": "code",
      "source": [
        ""
      ],
      "metadata": {
        "id": "wZzxzAKH8BIA"
      },
      "execution_count": null,
      "outputs": []
    }
  ]
}