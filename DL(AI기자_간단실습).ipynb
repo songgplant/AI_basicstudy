{
  "nbformat": 4,
  "nbformat_minor": 0,
  "metadata": {
    "colab": {
      "name": "DL(AI기자 간단실습).ipynb",
      "provenance": [],
      "collapsed_sections": [],
      "authorship_tag": "ABX9TyMyaNVkqLAsg9vnQeWYpfJP"
    },
    "kernelspec": {
      "name": "python3",
      "display_name": "Python 3"
    },
    "language_info": {
      "name": "python"
    }
  },
  "cells": [
    {
      "cell_type": "code",
      "execution_count": null,
      "metadata": {
        "id": "etVhURbcXgDR"
      },
      "outputs": [],
      "source": [
        "from datetime import datetime"
      ]
    },
    {
      "cell_type": "code",
      "source": [
        "place = input(\"경기가 열린 곳은? \")\n",
        "time = input(\"경기가 열린 시간은? \")\n",
        "opponent = input(\"상대 팀은? \")\n",
        "goals = input(\"손흥민 선수는 몇 골을 넣었나요? \")\n",
        "aids = input(\"도움은 몇 개인가요? \")\n",
        "score_me = input(\"손흥민 선수 팀이 넣은 골 수는? \")\n",
        "score_you = input(\"상대 팀이 넣은 골 수는? \")"
      ],
      "metadata": {
        "colab": {
          "base_uri": "https://localhost:8080/"
        },
        "id": "I00GxoNAXiYx",
        "outputId": "5c729305-ed32-4de6-87d6-592bb50284d9"
      },
      "execution_count": null,
      "outputs": [
        {
          "name": "stdout",
          "output_type": "stream",
          "text": [
            "경기가 열린 곳은? 런던 스타디움\n",
            "경기가 열린 시간은? 6월 6일 오후 7시\n",
            "상대 팀은? 맨체스터 유나이티드\n",
            "손흥민 선수는 몇 골을 넣었나요? 2\n",
            "도움은 몇 개인가요? 1\n",
            "손흥민 선수 팀이 넣은 골 수는? 4\n",
            "상대 팀이 넣은 골 수는? 2\n"
          ]
        }
      ]
    },
    {
      "cell_type": "code",
      "source": [
        "# 기사 작성하는 곳\n",
        "news=\"[프리미어 리그 속보(\"+str(datetime.now())+\")]\\n\"\n",
        "news=news+\"손흥민 선수는 \"+place+\"에서 \"+time+\"에 열린 경기에 출전하였습니다.\\n \"\n",
        "news=news+\"상대 팀은 \"+opponent+\"입니다. \"\n",
        "\n",
        "if score_me>score_you:\n",
        "    news=news+\"손흥민 선수의 팀이 \"+score_me+\"골을 넣어 \"+score_you+\"골을 넣은 상대 팀을 이겼습니다.\\n \"\n",
        "elif score_me<score_you:\n",
        "    news=news+\"손흥민 선수의 팀이 \"+score_me+\"골을 넣어 \"+score_you+\"골을 넣은 상대 팀에게 졌습니다.\\n \"\n",
        "else:\n",
        "    news=news+\"두 팀은 \"+score_me+\"대\"+score_you+\"로 비겼습니다.\\n \"\n",
        "\n",
        "if int(goals)>0 and int(aids)>0:\n",
        "    news=news+\"손흥민 선수는 \"+goals+\"골에 도움 \"+aids+\"개로 승리를 크게 이끌었습니다.\\n \"\n",
        "elif int(goals)>0 and int(aids)==0:\n",
        "    news=news+\"손흥민 선수는 \"+goals+\"골로 승리를 이끌었습니다.\\n \"\n",
        "elif int(goals)==0 and int(aids)>0:\n",
        "    news=news+\"손흥민 선수는 골은 없지만 도움 \"+aids+\"개로 승리하는 데 공헌하였습니다. \\n\"\n",
        "else:\n",
        "    news=news+\"아쉽게도 이번 경기에서 손홍민의 발끝은 침묵을 지켰습니다.\\n \""
      ],
      "metadata": {
        "id": "CYKC1HBkXq8p"
      },
      "execution_count": null,
      "outputs": []
    },
    {
      "cell_type": "code",
      "source": [
        "print(news)"
      ],
      "metadata": {
        "colab": {
          "base_uri": "https://localhost:8080/"
        },
        "id": "9UWENfpOYICF",
        "outputId": "3bc9f011-2e47-4e7b-f19e-5a2e63789326"
      },
      "execution_count": null,
      "outputs": [
        {
          "output_type": "stream",
          "name": "stdout",
          "text": [
            "[프리미어 리그 속보(2022-08-01 03:08:39.146814)]\n",
            "손흥민 선수는 런던 스타디움에서 6월 6일 오후 7시에 열린 경기에 출전하였습니다.\n",
            " 상대 팀은 맨체스터 유나이티드입니다. 손흥민 선수의 팀이 4골을 넣어 2골을 넣은 상대 팀을 이겼습니다.\n",
            " 손흥민 선수는 2골에 도움 1개로 승리를 크게 이끌었습니다.\n",
            " \n"
          ]
        }
      ]
    },
    {
      "cell_type": "markdown",
      "source": [
        "# 인공지능 프로그래밍\n",
        "만든 뉴스를 사운드로 변환하여 들려주는 것"
      ],
      "metadata": {
        "id": "UdyhM3C2Yiv9"
      }
    },
    {
      "cell_type": "code",
      "source": [
        "!pip install gtts playsound"
      ],
      "metadata": {
        "colab": {
          "base_uri": "https://localhost:8080/"
        },
        "id": "nxLh5aoBYOcO",
        "outputId": "c3d9a379-4f8e-49b4-b07c-ce54762e276e"
      },
      "execution_count": null,
      "outputs": [
        {
          "output_type": "stream",
          "name": "stdout",
          "text": [
            "Looking in indexes: https://pypi.org/simple, https://us-python.pkg.dev/colab-wheels/public/simple/\n",
            "Collecting gtts\n",
            "  Downloading gTTS-2.2.4-py3-none-any.whl (26 kB)\n",
            "Collecting playsound\n",
            "  Downloading playsound-1.3.0.tar.gz (7.7 kB)\n",
            "Requirement already satisfied: click in /usr/local/lib/python3.7/dist-packages (from gtts) (7.1.2)\n",
            "Requirement already satisfied: requests in /usr/local/lib/python3.7/dist-packages (from gtts) (2.23.0)\n",
            "Requirement already satisfied: six in /usr/local/lib/python3.7/dist-packages (from gtts) (1.15.0)\n",
            "Requirement already satisfied: certifi>=2017.4.17 in /usr/local/lib/python3.7/dist-packages (from requests->gtts) (2022.6.15)\n",
            "Requirement already satisfied: urllib3!=1.25.0,!=1.25.1,<1.26,>=1.21.1 in /usr/local/lib/python3.7/dist-packages (from requests->gtts) (1.24.3)\n",
            "Requirement already satisfied: chardet<4,>=3.0.2 in /usr/local/lib/python3.7/dist-packages (from requests->gtts) (3.0.4)\n",
            "Requirement already satisfied: idna<3,>=2.5 in /usr/local/lib/python3.7/dist-packages (from requests->gtts) (2.10)\n",
            "Building wheels for collected packages: playsound\n",
            "  Building wheel for playsound (setup.py) ... \u001b[?25l\u001b[?25hdone\n",
            "  Created wheel for playsound: filename=playsound-1.3.0-py3-none-any.whl size=7035 sha256=0afbadb566fd65955453725ef0c0e2734d59e2a5762dda7c9b9ca88f32019f47\n",
            "  Stored in directory: /root/.cache/pip/wheels/ba/f8/bb/ea57c0146b664dca3a0ada4199b0ecb5f9dfcb7b7e22b65ba2\n",
            "Successfully built playsound\n",
            "Installing collected packages: playsound, gtts\n",
            "Successfully installed gtts-2.2.4 playsound-1.3.0\n"
          ]
        }
      ]
    },
    {
      "cell_type": "code",
      "source": [
        "from gtts import gTTS\n",
        "import playsound"
      ],
      "metadata": {
        "colab": {
          "base_uri": "https://localhost:8080/"
        },
        "id": "C1a9ENmxYrnV",
        "outputId": "9afa8d94-d882-4583-af0a-e4ac84e5925c"
      },
      "execution_count": null,
      "outputs": [
        {
          "output_type": "stream",
          "name": "stderr",
          "text": [
            "WARNING:playsound:playsound is relying on another python subprocess. Please use `pip install pygobject` if you want playsound to run more efficiently.\n"
          ]
        }
      ]
    },
    {
      "cell_type": "code",
      "source": [
        "tts=gTTS(text=news, lang='ko')\n",
        "tts.save(\"news_Son.mp3\")"
      ],
      "metadata": {
        "id": "rwId0FKlYvKl"
      },
      "execution_count": null,
      "outputs": []
    },
    {
      "cell_type": "code",
      "source": [
        "tts_en=gTTS(text=news, lang='en')"
      ],
      "metadata": {
        "id": "-OdpO0KUYys3"
      },
      "execution_count": null,
      "outputs": []
    },
    {
      "cell_type": "code",
      "source": [
        "tts_en.save(\"news_Son_en.mp3\")\n"
      ],
      "metadata": {
        "id": "hcg7HzwTZfgR"
      },
      "execution_count": null,
      "outputs": []
    },
    {
      "cell_type": "markdown",
      "source": [
        ""
      ],
      "metadata": {
        "id": "QR--Pk9qaN0q"
      }
    },
    {
      "cell_type": "code",
      "source": [
        "import random"
      ],
      "metadata": {
        "id": "WoHibUWJZf4i"
      },
      "execution_count": null,
      "outputs": []
    },
    {
      "cell_type": "code",
      "source": [
        "# 기사 작성하는 곳\n",
        "news=\"[프리미어 리그 속보(\"+str(datetime.now())+\")]\\n\"\n",
        "news=news+\"손흥민 선수는 \"+place+\"에서 \"+time+\"에 열린 경기에 출전하였습니다.\\n \"\n",
        "news=news+\"상대 팀은 \"+opponent+\"입니다. \"\n",
        "\n",
        "if score_me>score_you:\n",
        "    wording=[\"상대 팀을 이겼습니다.\\n\", \"상대를 대상으로 통쾌한 승리를 거머쥐었습니다.\\n\", \"상대 팀을 꺾었습니다.\\n\"]\n",
        "  # 수정\n",
        "    news=news+\"손흥민 선수의 팀이 \"+score_me+\"골을 넣어 \"+score_you+\"골을 넣은\" + random.choice(wording)\n",
        "elif score_me<score_you:\n",
        "    news=news+\"손흥민 선수의 팀이 \"+score_me+\"골을 넣어 \"+score_you+\"골을 넣은 상대 팀에게 졌습니다.\\n \"\n",
        "else:\n",
        "    news=news+\"두 팀은 \"+score_me+\"대\"+score_you+\"로 비겼습니다.\\n \"\n",
        "\n",
        "if int(goals)>0 and int(aids)>0:\n",
        "    news=news+\"손흥민 선수는 \"+goals+\"골에 도움 \"+aids+\"개로 승리를 크게 이끌었습니다.\\n \"\n",
        "elif int(goals)>0 and int(aids)==0:\n",
        "    news=news+\"손흥민 선수는 \"+goals+\"골로 승리를 이끌었습니다.\\n \"\n",
        "elif int(goals)==0 and int(aids)>0:\n",
        "    news=news+\"손흥민 선수는 골은 없지만 도움 \"+aids+\"개로 승리하는 데 공헌하였습니다.\\n \"\n",
        "else:\n",
        "    news=news+\"아쉽게도 이번 경기에서 손홍민의 발끝은 침묵을 지켰습니다.\\n \""
      ],
      "metadata": {
        "id": "qHJBJyYoaMLG"
      },
      "execution_count": null,
      "outputs": []
    },
    {
      "cell_type": "code",
      "source": [
        "print(news)"
      ],
      "metadata": {
        "colab": {
          "base_uri": "https://localhost:8080/"
        },
        "id": "-pbSqbDRabHO",
        "outputId": "ee03ea62-68a7-4404-aa5d-d7015b296044"
      },
      "execution_count": null,
      "outputs": [
        {
          "output_type": "stream",
          "name": "stdout",
          "text": [
            "[프리미어 리그 속보(2022-08-01 03:18:41.582526)]\n",
            "손흥민 선수는 런던 스타디움에서 6월 6일 오후 7시에 열린 경기에 출전하였습니다.\n",
            " 상대 팀은 맨체스터 유나이티드입니다. 손흥민 선수의 팀이 4골을 넣어 2골을 넣은상대 팀을 꺾었습니다.\n",
            "손흥민 선수는 2골에 도움 1개로 승리를 크게 이끌었습니다.\n",
            " \n"
          ]
        }
      ]
    },
    {
      "cell_type": "code",
      "source": [
        ""
      ],
      "metadata": {
        "id": "mqgitmVEacb-"
      },
      "execution_count": null,
      "outputs": []
    }
  ]
}