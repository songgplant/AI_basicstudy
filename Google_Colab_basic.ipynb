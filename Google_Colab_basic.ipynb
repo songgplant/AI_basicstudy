{
  "nbformat": 4,
  "nbformat_minor": 0,
  "metadata": {
    "colab": {
      "name": "Google Colab basic",
      "provenance": [],
      "collapsed_sections": []
    },
    "kernelspec": {
      "name": "python3",
      "display_name": "Python 3"
    },
    "accelerator": "GPU"
  },
  "cells": [
    {
      "cell_type": "markdown",
      "metadata": {
        "id": "e0N8uCUH73my"
      },
      "source": [
        "#**Google Colaboratory**\n",
        "## Google Colab 개요\n",
        "\n",
        "\n"
      ]
    },
    {
      "cell_type": "markdown",
      "metadata": {
        "id": "G7nO34zpHmBF"
      },
      "source": [
        "## Google Colab 특징\n",
        "*   구글 클라우드 기반의 무료 개발 환경 서비스\n",
        "*   환경 설정 및 실행까지 매우 빠른 환경\n",
        "*   딥러닝 실행이 가능한 정도의 고사양 환경을 제공\n",
        "*   대부분의 패키지들이 이미 설치된 환경 제공\n",
        "*   여러 사용자와 동시에 사용 가능\n",
        "*   PC, 태블릿, 모바일 상관없이 인터넷 브라우저만 있으면 언제 어디서나 접속 가능\n",
        "*   목차나 Makedown 미리보기 등 다양한 기능 제공\n",
        "*   구글 드라이브와 연동 가능\n",
        "*   Git이나 Github와 쉽게 연동 가능\n",
        "\n",
        "\n",
        "\n",
        "\n",
        "\n",
        "\n",
        "\n",
        "\n"
      ]
    },
    {
      "cell_type": "markdown",
      "metadata": {
        "id": "E9g0JSuxINvQ"
      },
      "source": [
        "\n",
        "## 주의사항\n",
        "*   구글 계정 필요\n",
        "*   최대 세션 유지 시간이 존재(12 시간)\n",
        "*   세션이 종료되면 작업중이던 데이터는 모두 삭제\n",
        "*   소스 코드는 구글 드라이브에 저장\n"
      ]
    },
    {
      "cell_type": "markdown",
      "metadata": {
        "id": "ChxLfQMfHQoh"
      },
      "source": [
        "## Google Colab 사양\n",
        "*   플랫폼\n",
        "\n",
        "```\n",
        "import platform\n",
        "platform.platform()\n",
        "```\n",
        "\n",
        "\n",
        "\n",
        "\n",
        "\n"
      ]
    },
    {
      "cell_type": "code",
      "metadata": {
        "id": "18vgu5kjXhY-",
        "colab": {
          "base_uri": "https://localhost:8080/",
          "height": 35
        },
        "outputId": "8dd521a2-9207-407a-823c-70eadfd689d1"
      },
      "source": [
        "import platform\n",
        "platform.platform()"
      ],
      "execution_count": null,
      "outputs": [
        {
          "output_type": "execute_result",
          "data": {
            "text/plain": [
              "'Linux-5.4.188+-x86_64-with-Ubuntu-18.04-bionic'"
            ],
            "application/vnd.google.colaboratory.intrinsic+json": {
              "type": "string"
            }
          },
          "metadata": {},
          "execution_count": 1
        }
      ]
    },
    {
      "cell_type": "markdown",
      "metadata": {
        "id": "IvosF2yEIoCl"
      },
      "source": [
        "* 운영체제\n",
        "\n",
        "\n",
        "\n",
        "```\n",
        "!cat /etc/issue.net\n",
        "```\n",
        "\n",
        "\n",
        "\n"
      ]
    },
    {
      "cell_type": "code",
      "metadata": {
        "id": "3yweHWRJIsfP",
        "colab": {
          "base_uri": "https://localhost:8080/"
        },
        "outputId": "c2df0309-6700-4761-9b6f-d4c6faa3afdc"
      },
      "source": [
        "!cat /etc/issue.net"
      ],
      "execution_count": null,
      "outputs": [
        {
          "output_type": "stream",
          "name": "stdout",
          "text": [
            "Ubuntu 18.04.5 LTS\n"
          ]
        }
      ]
    },
    {
      "cell_type": "markdown",
      "metadata": {
        "id": "nvAa_vYxIzYx"
      },
      "source": [
        "*   CPU 사양\n",
        "\n",
        "```\n",
        "!cat /proc/cpuinfo\n",
        "```\n",
        "\n",
        "\n",
        "\n"
      ]
    },
    {
      "cell_type": "code",
      "metadata": {
        "id": "Gc5ywIZ8JGfG",
        "colab": {
          "base_uri": "https://localhost:8080/"
        },
        "outputId": "021215d4-662e-4124-9e38-f6ab42880b75"
      },
      "source": [
        "!cat /proc/cpuinfo"
      ],
      "execution_count": null,
      "outputs": [
        {
          "output_type": "stream",
          "name": "stdout",
          "text": [
            "processor\t: 0\n",
            "vendor_id\t: GenuineIntel\n",
            "cpu family\t: 6\n",
            "model\t\t: 79\n",
            "model name\t: Intel(R) Xeon(R) CPU @ 2.20GHz\n",
            "stepping\t: 0\n",
            "microcode\t: 0x1\n",
            "cpu MHz\t\t: 2199.998\n",
            "cache size\t: 56320 KB\n",
            "physical id\t: 0\n",
            "siblings\t: 2\n",
            "core id\t\t: 0\n",
            "cpu cores\t: 1\n",
            "apicid\t\t: 0\n",
            "initial apicid\t: 0\n",
            "fpu\t\t: yes\n",
            "fpu_exception\t: yes\n",
            "cpuid level\t: 13\n",
            "wp\t\t: yes\n",
            "flags\t\t: fpu vme de pse tsc msr pae mce cx8 apic sep mtrr pge mca cmov pat pse36 clflush mmx fxsr sse sse2 ss ht syscall nx pdpe1gb rdtscp lm constant_tsc rep_good nopl xtopology nonstop_tsc cpuid tsc_known_freq pni pclmulqdq ssse3 fma cx16 pcid sse4_1 sse4_2 x2apic movbe popcnt aes xsave avx f16c rdrand hypervisor lahf_lm abm 3dnowprefetch invpcid_single ssbd ibrs ibpb stibp fsgsbase tsc_adjust bmi1 hle avx2 smep bmi2 erms invpcid rtm rdseed adx smap xsaveopt arat md_clear arch_capabilities\n",
            "bugs\t\t: cpu_meltdown spectre_v1 spectre_v2 spec_store_bypass l1tf mds swapgs taa\n",
            "bogomips\t: 4399.99\n",
            "clflush size\t: 64\n",
            "cache_alignment\t: 64\n",
            "address sizes\t: 46 bits physical, 48 bits virtual\n",
            "power management:\n",
            "\n",
            "processor\t: 1\n",
            "vendor_id\t: GenuineIntel\n",
            "cpu family\t: 6\n",
            "model\t\t: 79\n",
            "model name\t: Intel(R) Xeon(R) CPU @ 2.20GHz\n",
            "stepping\t: 0\n",
            "microcode\t: 0x1\n",
            "cpu MHz\t\t: 2199.998\n",
            "cache size\t: 56320 KB\n",
            "physical id\t: 0\n",
            "siblings\t: 2\n",
            "core id\t\t: 0\n",
            "cpu cores\t: 1\n",
            "apicid\t\t: 1\n",
            "initial apicid\t: 1\n",
            "fpu\t\t: yes\n",
            "fpu_exception\t: yes\n",
            "cpuid level\t: 13\n",
            "wp\t\t: yes\n",
            "flags\t\t: fpu vme de pse tsc msr pae mce cx8 apic sep mtrr pge mca cmov pat pse36 clflush mmx fxsr sse sse2 ss ht syscall nx pdpe1gb rdtscp lm constant_tsc rep_good nopl xtopology nonstop_tsc cpuid tsc_known_freq pni pclmulqdq ssse3 fma cx16 pcid sse4_1 sse4_2 x2apic movbe popcnt aes xsave avx f16c rdrand hypervisor lahf_lm abm 3dnowprefetch invpcid_single ssbd ibrs ibpb stibp fsgsbase tsc_adjust bmi1 hle avx2 smep bmi2 erms invpcid rtm rdseed adx smap xsaveopt arat md_clear arch_capabilities\n",
            "bugs\t\t: cpu_meltdown spectre_v1 spectre_v2 spec_store_bypass l1tf mds swapgs taa\n",
            "bogomips\t: 4399.99\n",
            "clflush size\t: 64\n",
            "cache_alignment\t: 64\n",
            "address sizes\t: 46 bits physical, 48 bits virtual\n",
            "power management:\n",
            "\n"
          ]
        }
      ]
    },
    {
      "cell_type": "markdown",
      "metadata": {
        "id": "zDM6K8KSMwtj"
      },
      "source": [
        "\n",
        "\n",
        "*   메모리 사양\n",
        "\n",
        "\n",
        "```\n",
        "!cat /proc/meminfo\n",
        "```\n",
        "\n",
        "\n",
        "\n"
      ]
    },
    {
      "cell_type": "code",
      "metadata": {
        "id": "xt1T6t0DNGoY"
      },
      "source": [
        ""
      ],
      "execution_count": null,
      "outputs": []
    },
    {
      "cell_type": "markdown",
      "metadata": {
        "id": "hGN8xE6zNexG"
      },
      "source": [
        "\n",
        "\n",
        "*   파이썬 버전\n",
        "\n",
        "```\n",
        "!python --version\n",
        "```\n",
        "\n",
        "\n",
        "\n"
      ]
    },
    {
      "cell_type": "code",
      "metadata": {
        "id": "y9cHpcMFNp1q",
        "colab": {
          "base_uri": "https://localhost:8080/"
        },
        "outputId": "84c9f1e9-2135-4b87-c37d-93bfa7bdbe88"
      },
      "source": [
        "!python --version"
      ],
      "execution_count": null,
      "outputs": [
        {
          "output_type": "stream",
          "name": "stdout",
          "text": [
            "Python 3.7.13\n"
          ]
        }
      ]
    },
    {
      "cell_type": "markdown",
      "metadata": {
        "id": "D5-Jh356Nqbd"
      },
      "source": [
        "## Google Colab 런타임"
      ]
    },
    {
      "cell_type": "markdown",
      "metadata": {
        "id": "HDdCh5jTN3LI"
      },
      "source": [
        "*   Colab에서 고성능 하드웨어로 GPU나 TPU 사용 가능\n",
        "*   런타임 유형 변경 필요\n",
        "\n",
        "\n",
        "**   None: CPU만 사용\n",
        "\n",
        "**  GPU: 하드웨어 가속으로 GPU 사용\n",
        "\n",
        "**   TPU: 하드웨어 가속으로 TPU 사용\n",
        "\n",
        "\n",
        "```\n",
        "!cat /proc/cpuinfo\n",
        "```\n",
        "\n",
        "\n",
        "\n"
      ]
    },
    {
      "cell_type": "code",
      "metadata": {
        "id": "rKnYEU63Qrft"
      },
      "source": [
        ""
      ],
      "execution_count": null,
      "outputs": []
    },
    {
      "cell_type": "markdown",
      "metadata": {
        "id": "RAKsmV2qJHR0"
      },
      "source": [
        "##파일 저장 및 다운로드/업로드\n",
        "*   Jupyter Notebook 환경에서 파일 저장 및 다운로드\n",
        "```\n",
        "%%writefile test.txt\n",
        "text\n",
        "```\n",
        "```\n",
        "!cat test.txt\n",
        "```\n",
        "```\n",
        "from google.colab import files\n",
        "files.download('test.txt')\n",
        "```\n",
        "```\n",
        "upload = files.upload()\n",
        "```\n",
        "```\n",
        "!ls\n",
        "```\n",
        "\n",
        "\n",
        "\n",
        "\n",
        "\n"
      ]
    },
    {
      "cell_type": "code",
      "metadata": {
        "id": "v_3NYcMDQotN"
      },
      "source": [
        ""
      ],
      "execution_count": null,
      "outputs": []
    },
    {
      "cell_type": "code",
      "metadata": {
        "id": "WHy88EayQpmj"
      },
      "source": [
        ""
      ],
      "execution_count": null,
      "outputs": []
    },
    {
      "cell_type": "markdown",
      "metadata": {
        "id": "XmUAo-4bSrv3"
      },
      "source": [
        "## Google Drive 연동\n",
        "*   Google Colab은 Google Drive와 mount를 통해 쉽게 연동 가능\n",
        "\n",
        "\n",
        "```\n",
        "from google.colab import drive\n",
        "drive.mount('/content/drive')\n",
        "```\n",
        "** 인증코드 복사 \n",
        "\n",
        "*   Google Drive에 소스 코드 저장뿐만 아니라 파일을 열거나 저장 가능\n",
        "\n",
        "\n",
        "```\n",
        "!ls /content/drive\n",
        "```\n",
        "\n",
        "\n"
      ]
    },
    {
      "cell_type": "code",
      "metadata": {
        "id": "qZdedVVPS-9c"
      },
      "source": [
        ""
      ],
      "execution_count": null,
      "outputs": []
    },
    {
      "cell_type": "markdown",
      "metadata": {
        "id": "QeUq52_IUSsq"
      },
      "source": [
        "---"
      ]
    }
  ]
}